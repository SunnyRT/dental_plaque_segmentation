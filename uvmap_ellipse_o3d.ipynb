{
 "cells": [
  {
   "cell_type": "code",
   "execution_count": 1,
   "metadata": {},
   "outputs": [
    {
     "name": "stdout",
     "output_type": "stream",
     "text": [
      "Jupyter environment detected. Enabling Open3D WebVisualizer.\n",
      "[Open3D INFO] WebRTC GUI backend enabled.\n",
      "[Open3D INFO] WebRTCWindowSystem: HTTP handshake server disabled.\n"
     ]
    }
   ],
   "source": [
    "import open3d as o3d\n",
    "import numpy as np\n",
    "import copy\n",
    "from scipy import interpolate\n"
   ]
  },
  {
   "cell_type": "code",
   "execution_count": 2,
   "metadata": {},
   "outputs": [],
   "source": [
    "# Load the intraoral mesh\n",
    "intraoral_mesh = o3d.io.read_triangle_mesh(r'D:\\sunny\\Codes\\DPS\\data_teethseg\\origin\\001502_origin.ply')\n",
    "intraoral_mesh.compute_vertex_normals()\n",
    "n_sample_pts = 32\n",
    "\n",
    "axes = o3d.geometry.TriangleMesh.create_coordinate_frame(size=50, origin=[0,0,0])\n"
   ]
  },
  {
   "cell_type": "markdown",
   "metadata": {},
   "source": [
    "### Recenter the mesh (later the labelled one as well)"
   ]
  },
  {
   "cell_type": "code",
   "execution_count": 3,
   "metadata": {},
   "outputs": [],
   "source": [
    "# Find two end points of the intraoral mesh by the max and min theta values\n",
    "def find_key_points(mesh):\n",
    "    vertices = np.asarray(mesh.vertices)\n",
    "    x,y,z = vertices[:,0], vertices[:,1], vertices[:,2]\n",
    "    theta = np.arctan2(z,x) + np.pi/2\n",
    "    theta = np.where(theta<0, theta+2*np.pi, theta) # if theta < 0, add 2pi to make it positive\n",
    "    endpt1 = vertices[np.argmin(theta)]\n",
    "    endpt2 = vertices[np.argmax(theta)]\n",
    "    centre = (endpt1 + endpt2) / 2\n",
    "    return endpt1, endpt2, centre\n",
    "\n",
    "# Recentre the mesh with centre keypoint at the origin, rotate the mesh about y axis such that x-axis point to endpt1\n",
    "def recentre_mesh(mesh, key_points):\n",
    "    endpt1, endpt2, centre_keypt = key_points\n",
    "    vertices = np.asarray(mesh.vertices)\n",
    "    vertices = vertices - centre_keypt\n",
    "    endpt1 = endpt1 - centre_keypt\n",
    "    endpt2 = endpt2 - centre_keypt\n",
    "\n",
    "\n",
    "    # Rotate the mesh about y axis such that x-axis point to endpt1\n",
    "    theta = np.arctan2(endpt1[2], endpt1[0])\n",
    "    # print(f\"endpt1: {endpt1}, endpt2: {endpt2}, theta: {theta}\")\n",
    "    R = np.array([[np.cos(theta), 0, np.sin(theta)], [0, 1, 0], [-np.sin(theta), 0, np.cos(theta)]])\n",
    "    vertices = np.dot(vertices, R.T)\n",
    "    endpt1 = np.dot(endpt1, R.T)\n",
    "    endpt2 = np.dot(endpt2, R.T)\n",
    "    print(f\"endpt1: {endpt1}, endpt2: {endpt2}\")\n",
    "    assert endpt1[2] < 1e-6, f\"end point 1 {endpt1} is not on x-axis\"\n",
    "    assert endpt2[2] < 1e-6, f\"end point 2 {endpt2} is not on x-axis\"  \n",
    "\n",
    "    mesh.vertices = o3d.utility.Vector3dVector(vertices)\n",
    "    return mesh, endpt1, endpt2"
   ]
  },
  {
   "cell_type": "code",
   "execution_count": 4,
   "metadata": {},
   "outputs": [],
   "source": [
    "# Test the recentre_mesh function\n",
    "keypts = find_key_points(intraoral_mesh)\n",
    "\n",
    "# Visualize the original mesh with key points\n",
    "pc = o3d.geometry.PointCloud()\n",
    "pc.points = o3d.utility.Vector3dVector(keypts)\n",
    "pc.paint_uniform_color([1, 0, 0])\n",
    "o3d.visualization.draw_geometries([intraoral_mesh, axes, pc])"
   ]
  },
  {
   "cell_type": "code",
   "execution_count": 5,
   "metadata": {},
   "outputs": [
    {
     "name": "stdout",
     "output_type": "stream",
     "text": [
      "endpt1: [22.42717787  0.33631639  0.        ], endpt2: [-22.42717787  -0.33631639   0.        ]\n"
     ]
    }
   ],
   "source": [
    "intraoral_mesh_rc, endpt1_rc, endpt2_rc = recentre_mesh(intraoral_mesh, keypts) # rc: re-centered\n",
    "\n",
    "# Visualize the recentred mesh with key points, with axis drawn\n",
    "pc = o3d.geometry.PointCloud()\n",
    "pc.points = o3d.utility.Vector3dVector([endpt1_rc, endpt2_rc])\n",
    "pc.paint_uniform_color([1, 0, 0])\n",
    "\n",
    "o3d.visualization.draw_geometries([intraoral_mesh_rc, axes, pc])"
   ]
  },
  {
   "cell_type": "markdown",
   "metadata": {},
   "source": [
    "### Compute parameters of elliptical curve"
   ]
  },
  {
   "cell_type": "code",
   "execution_count": 17,
   "metadata": {},
   "outputs": [
    {
     "name": "stdout",
     "output_type": "stream",
     "text": [
      "Number of points near x-axis: 245\n",
      "Number of points near z-axis: 328\n"
     ]
    }
   ],
   "source": [
    "\"\"\" Express all mesh vertices in polar coordinates (r, theta) in x-z plane\n",
    "    r: the distance to the origin\n",
    "    theta: the angle to x-axis\"\"\"\n",
    "\n",
    "vertices = np.asarray(intraoral_mesh_rc.vertices)\n",
    "r = np.linalg.norm(vertices[:,[0,2]], axis=1)\n",
    "theta = np.arctan2(vertices[:,2], vertices[:,0])\n",
    "\n",
    "\n",
    "\n",
    "# Create the outer and inner half-ellipse curves\n",
    "# Compute the major and minor axis of the ellipse\n",
    "\n",
    "# a = endpt1_rc[0] # major axis of the ellipse\n",
    "end_mask = np.logical_or(theta < 0.01*np.pi, theta > 0.99*np.pi) # Extract out points near the x axis (within theta value of [0.01pi, 0.99pi])\n",
    "print(f\"Number of points near x-axis: {np.sum(end_mask)}\")\n",
    "r_end = r[end_mask]\n",
    "a = np.mean(r_end) # major axis of the ellipse\n",
    "\n",
    "middle_mask = np.logical_and(theta > 0.49*np.pi, theta < 0.51*np.pi) # Extract out points near the z axis (within theta value of [0.48pi, 0.52pi])\n",
    "print(f\"Number of points near z-axis: {np.sum(middle_mask)}\")\n",
    "r_middle = r[middle_mask]\n",
    "b = np.mean(r_middle) # minor axis of the ellipse\n",
    "\n",
    "a_outer = a * 1.4\n",
    "b_outer = b * 1.1\n",
    "# a_inner = a * 0.7\n",
    "# b_inner = b * 0.8\n",
    "\n"
   ]
  },
  {
   "cell_type": "code",
   "execution_count": 18,
   "metadata": {},
   "outputs": [],
   "source": [
    "def ellipse_coordinates(a, b, theta):\n",
    "    \"\"\" return an array of x, z coordinates of points lying on the ellipse with major axis a, minor axis b, and angles theta\"\"\"\n",
    "    r = a * b / np.sqrt((b * np.cos(theta))**2 + (a * np.sin(theta))**2)\n",
    "    x = r * np.cos(theta)\n",
    "    z = r * np.sin(theta)\n",
    "    y = np.zeros_like(x)\n",
    "    # rearrange into (x, y, z) format for all points (i.e. shape (n, 3))\n",
    "    coordinates = np.vstack((x, y, z)).T\n",
    "    return coordinates"
   ]
  },
  {
   "cell_type": "code",
   "execution_count": 19,
   "metadata": {},
   "outputs": [],
   "source": [
    "# visualize the outer and inner half-ellipse curves with original mesh\n",
    "theta_values = np.linspace(0, np.pi, 256)\n",
    "outer_ellipse_pts = ellipse_coordinates(a_outer, b_outer, theta_values)\n",
    "# inner_ellipse_pts = ellipse_coordinates(a_inner, b_inner, theta_values)\n",
    "# print(f\"outer_ellipse_pts: {outer_ellipse_pts.shape}, inner_ellipse_pts: {inner_ellipse_pts.shape}\")\n",
    "\n",
    "outer_ellipse_mesh = o3d.geometry.PointCloud()\n",
    "outer_ellipse_mesh.points = o3d.utility.Vector3dVector(outer_ellipse_pts)\n",
    "outer_ellipse_mesh.paint_uniform_color([0, 1, 0])\n",
    "\n",
    "\n",
    "# # FIXME: maybe the inner ellipse is not necessary!!???\n",
    "# inner_ellipse_mesh = o3d.geometry.PointCloud()\n",
    "# inner_ellipse_mesh.points = o3d.utility.Vector3dVector(inner_ellipse_pts)\n",
    "# inner_ellipse_mesh.paint_uniform_color([0, 0, 1])\n",
    "\n",
    "o3d.visualization.draw_geometries([intraoral_mesh_rc, outer_ellipse_mesh, axes])\n"
   ]
  },
  {
   "cell_type": "markdown",
   "metadata": {},
   "source": [
    "### Separate the entire mesh into outer, inner and upper"
   ]
  },
  {
   "cell_type": "code",
   "execution_count": 156,
   "metadata": {},
   "outputs": [],
   "source": [
    "# Separate the original mesh vertices into inward-facing and outward-facing vertices relative to the origin\n",
    "# With original (non re-centered mesh)\n",
    "\n",
    "def separate_mesh_vertices_io(mesh):\n",
    "    vertices = np.asarray(mesh.vertices)\n",
    "    viewpt1 = np.mean(vertices, axis=0)\n",
    "    vertices_1 = vertices - viewpt1\n",
    "    viewpt2 = centre / 2\n",
    "    vertices_2 = vertices - viewpt2\n",
    "\n",
    "\n",
    "    colors = np.asarray(mesh.vertex_colors)\n",
    "    normals = np.asarray(mesh.vertex_normals)\n",
    "\n",
    "    # inward_mask = np.sum(normals * vertices, axis=1) < 0\n",
    "    pos_mask1 = vertices[:, 2] > viewpt1[2]\n",
    "    inward_mask1 = np.logical_and(np.sum(normals * vertices_1, axis=1) < 0, pos_mask1)\n",
    "    pos_mask2 = np.logical_and(viewpt2[2] < vertices[:, 2], vertices[:, 2] < viewpt1[2])\n",
    "    inward_mask2 = np.logical_and(np.sum(normals * vertices_2, axis=1) < 0, pos_mask2)\n",
    "    pos_mask3 = vertices[:, 2] < viewpt2[2]\n",
    "    inward_mask3 = np.logical_and(np.sum(normals * vertices, axis=1) < 0, pos_mask3)\n",
    "\n",
    "    # merge the 3 masks\n",
    "    inward_mask = inward_mask1 + inward_mask2 + inward_mask3\n",
    "    inward_mesh = copy.deepcopy(mesh)\n",
    "    inward_mesh.vertices = o3d.utility.Vector3dVector(vertices[inward_mask])\n",
    "    inward_mesh.vertex_colors = o3d.utility.Vector3dVector(colors[inward_mask])\n",
    "\n",
    "    outward_mask = np.logical_not(inward_mask)\n",
    "    outward_mesh = copy.deepcopy(mesh)\n",
    "    outward_mesh.vertices = o3d.utility.Vector3dVector(vertices[outward_mask])\n",
    "    outward_mesh.vertex_colors = o3d.utility.Vector3dVector(colors[outward_mask])\n",
    "    return inward_mesh, outward_mesh, inward_mask, outward_mask\n",
    "    "
   ]
  },
  {
   "cell_type": "markdown",
   "metadata": {},
   "source": [
    "### Projection"
   ]
  },
  {
   "cell_type": "code",
   "execution_count": 157,
   "metadata": {},
   "outputs": [],
   "source": [
    "# Define projection function to project the mesh vertices onto the ellipse\n",
    "def project_mesh_onto_ellipse(mesh, a, b):\n",
    "    vertices = np.asarray(mesh.vertices)\n",
    "    theta = np.arctan2(vertices[:,2], vertices[:,0])\n",
    "    projected_pts = ellipse_coordinates(a, b, theta)\n",
    "    projected_pts[:,1] = vertices[:,1] # keep the y coordinates the same\n",
    "    return projected_pts"
   ]
  },
  {
   "cell_type": "code",
   "execution_count": 158,
   "metadata": {},
   "outputs": [],
   "source": [
    "# Visualize the projected points on the ellipse with color information from the original mesh\n",
    "inward_mesh, outward_mesh, inward_mask, outward_mask = separate_mesh_vertices_io(intraoral_mesh_rc)\n",
    "\n",
    "colors_in = np.asarray(inward_mesh.vertex_colors)\n",
    "colors_out = np.asarray(outward_mesh.vertex_colors)\n",
    "\n",
    "projected_pts_out = project_mesh_onto_ellipse(outward_mesh, a_outer, b_outer)\n",
    "projected_mesh_out = o3d.geometry.PointCloud()\n",
    "projected_mesh_out.points = o3d.utility.Vector3dVector(projected_pts_out)\n",
    "projected_mesh_out.colors = o3d.utility.Vector3dVector(colors_out)\n",
    "\n",
    "\n",
    "# Color original mesh with inward-facing vertices in red, outward-facing vertices unchanegd\n",
    "original_mesh = copy.deepcopy(intraoral_mesh_rc)\n",
    "colors = np.asarray(original_mesh.vertex_colors)\n",
    "colors[inward_mask] = [1, 0, 0]\n",
    "original_mesh.vertex_colors = o3d.utility.Vector3dVector(colors)\n",
    "# display center of mesh\n",
    "centre = np.mean(np.asarray(original_mesh.vertices), axis=0)\n",
    "centre_mesh = o3d.geometry.PointCloud()\n",
    "centre_mesh.paint_uniform_color([0, 0, 1])\n",
    "centre_mesh.points = o3d.utility.Vector3dVector([centre])\n",
    "\n",
    "\n",
    "\n",
    "o3d.visualization.draw_geometries([original_mesh, projected_mesh_out, outer_ellipse_mesh, centre_mesh, axes])\n",
    "\n",
    "\n"
   ]
  },
  {
   "cell_type": "code",
   "execution_count": 159,
   "metadata": {},
   "outputs": [],
   "source": [
    "\n",
    "projected_pts_in = project_mesh_onto_ellipse(inward_mesh, a_outer, b_outer)\n",
    "projected_mesh_in = o3d.geometry.PointCloud()\n",
    "projected_mesh_in.points = o3d.utility.Vector3dVector(projected_pts_in)\n",
    "projected_mesh_in.colors = o3d.utility.Vector3dVector(colors[inward_mask])\n",
    "\n",
    "\n",
    "o3d.visualization.draw_geometries([intraoral_mesh_rc, projected_mesh_in, outer_ellipse_mesh, axes])"
   ]
  },
  {
   "cell_type": "code",
   "execution_count": null,
   "metadata": {},
   "outputs": [],
   "source": []
  }
 ],
 "metadata": {
  "kernelspec": {
   "display_name": "base",
   "language": "python",
   "name": "python3"
  },
  "language_info": {
   "codemirror_mode": {
    "name": "ipython",
    "version": 3
   },
   "file_extension": ".py",
   "mimetype": "text/x-python",
   "name": "python",
   "nbconvert_exporter": "python",
   "pygments_lexer": "ipython3",
   "version": "3.9.19"
  }
 },
 "nbformat": 4,
 "nbformat_minor": 2
}

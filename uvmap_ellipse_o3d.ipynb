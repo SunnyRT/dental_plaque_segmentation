{
 "cells": [
  {
   "cell_type": "code",
   "execution_count": 1,
   "metadata": {},
   "outputs": [
    {
     "name": "stdout",
     "output_type": "stream",
     "text": [
      "Jupyter environment detected. Enabling Open3D WebVisualizer.\n",
      "[Open3D INFO] WebRTC GUI backend enabled.\n",
      "[Open3D INFO] WebRTCWindowSystem: HTTP handshake server disabled.\n"
     ]
    }
   ],
   "source": [
    "import open3d as o3d\n",
    "import numpy as np\n",
    "import copy\n",
    "from scipy import interpolate\n"
   ]
  },
  {
   "cell_type": "code",
   "execution_count": 21,
   "metadata": {},
   "outputs": [],
   "source": [
    "# Load the intraoral mesh\n",
    "intraoral_mesh = o3d.io.read_triangle_mesh(r'D:\\sunny\\Codes\\DPS\\data_teethseg\\origin\\001001_origin.ply') # 1001 does not work for ellipse\n",
    "intraoral_mesh.compute_vertex_normals()\n",
    "n_sample_pts = 32\n",
    "\n",
    "axes = o3d.geometry.TriangleMesh.create_coordinate_frame(size=50, origin=[0,0,0])\n"
   ]
  },
  {
   "cell_type": "markdown",
   "metadata": {},
   "source": [
    "### Recenter the mesh (later the labelled one as well)"
   ]
  },
  {
   "cell_type": "code",
   "execution_count": 22,
   "metadata": {},
   "outputs": [],
   "source": [
    "# Find two end points of the intraoral mesh by the max and min theta values\n",
    "def find_key_points(mesh):\n",
    "    vertices = np.asarray(mesh.vertices)\n",
    "    x,y,z = vertices[:,0], vertices[:,1], vertices[:,2]\n",
    "    theta = np.arctan2(z,x) + np.pi/2\n",
    "    theta = np.where(theta<0, theta+2*np.pi, theta) # if theta < 0, add 2pi to make it positive\n",
    "    endpt1 = vertices[np.argmin(theta)]\n",
    "    endpt2 = vertices[np.argmax(theta)]\n",
    "    centre = (endpt1 + endpt2) / 2\n",
    "    return endpt1, endpt2, centre\n",
    "\n",
    "# Recentre the mesh with centre keypoint at the origin, rotate the mesh about y axis such that x-axis point to endpt1\n",
    "def recentre_mesh(mesh, key_points):\n",
    "    endpt1, endpt2, centre_keypt = key_points\n",
    "    vertices = np.asarray(mesh.vertices)\n",
    "    vertices = vertices - centre_keypt\n",
    "    endpt1 = endpt1 - centre_keypt\n",
    "    endpt2 = endpt2 - centre_keypt\n",
    "\n",
    "\n",
    "    # Rotate the mesh about y axis such that x-axis point to endpt1\n",
    "    theta = np.arctan2(endpt1[2], endpt1[0])\n",
    "    # print(f\"endpt1: {endpt1}, endpt2: {endpt2}, theta: {theta}\")\n",
    "    R = np.array([[np.cos(theta), 0, np.sin(theta)], [0, 1, 0], [-np.sin(theta), 0, np.cos(theta)]])\n",
    "    vertices = np.dot(vertices, R.T)\n",
    "    endpt1 = np.dot(endpt1, R.T)\n",
    "    endpt2 = np.dot(endpt2, R.T)\n",
    "    print(f\"endpt1: {endpt1}, endpt2: {endpt2}\")\n",
    "    assert endpt1[2] < 1e-6, f\"end point 1 {endpt1} is not on x-axis\"\n",
    "    assert endpt2[2] < 1e-6, f\"end point 2 {endpt2} is not on x-axis\"  \n",
    "\n",
    "    mesh.vertices = o3d.utility.Vector3dVector(vertices)\n",
    "    return mesh, endpt1, endpt2"
   ]
  },
  {
   "cell_type": "code",
   "execution_count": 23,
   "metadata": {},
   "outputs": [
    {
     "data": {
      "text/plain": [
       "PointCloud with 3 points."
      ]
     },
     "execution_count": 23,
     "metadata": {},
     "output_type": "execute_result"
    }
   ],
   "source": [
    "# Test the recentre_mesh function\n",
    "keypts = find_key_points(intraoral_mesh)\n",
    "\n",
    "# Visualize the original mesh with key points\n",
    "pc = o3d.geometry.PointCloud()\n",
    "pc.points = o3d.utility.Vector3dVector(keypts)\n",
    "pc.paint_uniform_color([1, 0, 0])\n",
    "# o3d.visualization.draw_geometries([intraoral_mesh, axes, pc])"
   ]
  },
  {
   "cell_type": "code",
   "execution_count": 24,
   "metadata": {},
   "outputs": [
    {
     "name": "stdout",
     "output_type": "stream",
     "text": [
      "endpt1: [24.12074734  0.94027094  0.        ], endpt2: [-2.41207473e+01 -9.40270936e-01  3.55271368e-15]\n"
     ]
    },
    {
     "data": {
      "text/plain": [
       "PointCloud with 2 points."
      ]
     },
     "execution_count": 24,
     "metadata": {},
     "output_type": "execute_result"
    }
   ],
   "source": [
    "intraoral_mesh_rc, endpt1_rc, endpt2_rc = recentre_mesh(intraoral_mesh, keypts) # rc: re-centered\n",
    "\n",
    "# Visualize the recentred mesh with key points, with axis drawn\n",
    "pc = o3d.geometry.PointCloud()\n",
    "pc.points = o3d.utility.Vector3dVector([endpt1_rc, endpt2_rc])\n",
    "pc.paint_uniform_color([1, 0, 0])\n",
    "\n",
    "# o3d.visualization.draw_geometries([intraoral_mesh_rc, axes, pc])"
   ]
  },
  {
   "cell_type": "markdown",
   "metadata": {},
   "source": [
    "### Compute parameters of elliptical curve"
   ]
  },
  {
   "cell_type": "code",
   "execution_count": 25,
   "metadata": {},
   "outputs": [
    {
     "name": "stdout",
     "output_type": "stream",
     "text": [
      "Number of points near x-axis: 676\n",
      "Number of points near z-axis: 546\n"
     ]
    }
   ],
   "source": [
    "\"\"\" Express all mesh vertices in polar coordinates (r, theta) in x-z plane\n",
    "    r: the distance to the origin\n",
    "    theta: the angle to x-axis\"\"\"\n",
    "\n",
    "vertices = np.asarray(intraoral_mesh_rc.vertices)\n",
    "r = np.linalg.norm(vertices[:,[0,2]], axis=1)\n",
    "theta = np.arctan2(vertices[:,2], vertices[:,0])\n",
    "\n",
    "\n",
    "\n",
    "# Create the outer and inner half-ellipse curves\n",
    "# Compute the major and minor axis of the ellipse\n",
    "\n",
    "# a = endpt1_rc[0] # major axis of the ellipse\n",
    "end_mask = np.logical_or(theta < 0.01*np.pi, theta > 0.99*np.pi) # Extract out points near the x axis (within theta value of [0.01pi, 0.99pi])\n",
    "print(f\"Number of points near x-axis: {np.sum(end_mask)}\")\n",
    "r_end = r[end_mask]\n",
    "a = np.mean(r_end) # major axis of the ellipse\n",
    "\n",
    "middle_mask = np.logical_and(theta > 0.49*np.pi, theta < 0.51*np.pi) # Extract out points near the z axis (within theta value of [0.48pi, 0.52pi])\n",
    "print(f\"Number of points near z-axis: {np.sum(middle_mask)}\")\n",
    "r_middle = r[middle_mask]\n",
    "b = np.mean(r_middle) # minor axis of the ellipse\n",
    "\n",
    "a_outer = a * 1.4\n",
    "b_outer = b * 1.1\n",
    "# a_inner = a * 0.7\n",
    "# b_inner = b * 0.8\n",
    "\n"
   ]
  },
  {
   "cell_type": "code",
   "execution_count": 26,
   "metadata": {},
   "outputs": [],
   "source": [
    "def ellipse_coordinates(a, b, theta):\n",
    "    \"\"\" return an array of x, z coordinates of points lying on the ellipse with major axis a, minor axis b, and angles theta\"\"\"\n",
    "    r = a * b / np.sqrt((b * np.cos(theta))**2 + (a * np.sin(theta))**2)\n",
    "    x = r * np.cos(theta)\n",
    "    z = r * np.sin(theta)\n",
    "    y = np.zeros_like(x)\n",
    "    # rearrange into (x, y, z) format for all points (i.e. shape (n, 3))\n",
    "    coordinates = np.vstack((x, y, z)).T\n",
    "    return coordinates"
   ]
  },
  {
   "cell_type": "code",
   "execution_count": 27,
   "metadata": {},
   "outputs": [],
   "source": [
    "# visualize the outer and inner half-ellipse curves with original mesh\n",
    "theta_values = np.linspace(0, np.pi, 256)\n",
    "outer_ellipse_pts = ellipse_coordinates(a_outer, b_outer, theta_values)\n",
    "# inner_ellipse_pts = ellipse_coordinates(a_inner, b_inner, theta_values)\n",
    "# print(f\"outer_ellipse_pts: {outer_ellipse_pts.shape}, inner_ellipse_pts: {inner_ellipse_pts.shape}\")\n",
    "\n",
    "outer_ellipse_mesh = o3d.geometry.PointCloud()\n",
    "outer_ellipse_mesh.points = o3d.utility.Vector3dVector(outer_ellipse_pts)\n",
    "outer_ellipse_mesh.paint_uniform_color([0, 1, 0])\n",
    "\n",
    "\n",
    "# # FIXME: maybe the inner ellipse is not necessary!!???\n",
    "# inner_ellipse_mesh = o3d.geometry.PointCloud()\n",
    "# inner_ellipse_mesh.points = o3d.utility.Vector3dVector(inner_ellipse_pts)\n",
    "# inner_ellipse_mesh.paint_uniform_color([0, 0, 1])\n",
    "\n",
    "o3d.visualization.draw_geometries([intraoral_mesh_rc, outer_ellipse_mesh, axes])\n"
   ]
  },
  {
   "cell_type": "markdown",
   "metadata": {},
   "source": [
    "### Separate the entire mesh into outer, inner and upper"
   ]
  },
  {
   "cell_type": "markdown",
   "metadata": {},
   "source": [
    "#### First separate upper face"
   ]
  },
  {
   "cell_type": "code",
   "execution_count": 28,
   "metadata": {},
   "outputs": [
    {
     "name": "stdout",
     "output_type": "stream",
     "text": [
      "-0.8151262326477536 0.9999061958447798\n",
      "6941\n",
      "Number of triangles before: 11857\n",
      "Number of triangles after: 10027\n"
     ]
    }
   ],
   "source": [
    "# Identify upward facing vertices (upper vertices) and visualize by coloring them with red\n",
    "triangles = np.asarray(intraoral_mesh.triangles)\n",
    "vertices = np.asarray(intraoral_mesh_rc.vertices)\n",
    "centre = np.mean(vertices, axis=0)\n",
    "normals = np.asarray(intraoral_mesh_rc.vertex_normals)\n",
    "print(min(normals[:,1]), max(normals[:,1]))\n",
    "\n",
    "\n",
    "bottom_mask = np.logical_and(np.abs(vertices[:,0]) < 15, vertices[:,1] < 0)\n",
    "upward_mask = np.logical_and(normals[:,1] > 0.6, ~bottom_mask)\n",
    "# upward_mask = normals[:,1] > 0.7\n",
    "print(np.sum(upward_mask))\n",
    "upward_mesh = copy.deepcopy(intraoral_mesh_rc)\n",
    "\n",
    "# Preserve connected vertices which belong to a big enough cluster (remove small disconnecting clusters)\n",
    "\n",
    "# Extract upward facing triangles\n",
    "upward_mask_triangles = np.all(upward_mask[triangles], axis=1) # all 3 vertices of the triangle are upward facing\n",
    "upward_triangles = triangles[upward_mask_triangles]\n",
    "upward_mesh.triangles = o3d.utility.Vector3iVector(upward_triangles)\n",
    "\n",
    "# Remove disconnected small componenet pieces => preserve connected components with face size > 100\n",
    "def remove_small_components(mesh, min_size=500):\n",
    "    \"\"\" Remove small disconnected components from the mesh\"\"\"\n",
    "    triangles = np.asarray(mesh.triangles)\n",
    "    print(f\"Number of triangles before: {len(triangles)}\")\n",
    "    components = np.array(mesh.cluster_connected_triangles()[0])\n",
    "    comp_sizes = np.bincount(components)\n",
    "    small_comp_indices = np.where(comp_sizes < min_size)[0]\n",
    "    small_comp_mask = np.isin(components, small_comp_indices)\n",
    "\n",
    "    triangles = triangles[np.logical_not(small_comp_mask)]\n",
    "    mesh.triangles = o3d.utility.Vector3iVector(triangles)\n",
    "    print(f\"Number of triangles after: {len(triangles)}\")\n",
    "    return mesh\n",
    "upward_mesh = remove_small_components(upward_mesh, min_size=500)\n",
    "\n",
    "# fill up enclosed holes in the mesh\n",
    "upward_triangles = np.asarray(upward_mesh.triangles)\n",
    "\n",
    "def set_difference(A, B):\n",
    "    \"\"\" Return the elements in A but not in B\"\"\"\n",
    "    A_view = A.view([('', A.dtype)] * A.shape[1])\n",
    "    B_view = B.view([('', B.dtype)] * B.shape[1])\n",
    "    C_view = np.setdiff1d(A_view, B_view)\n",
    "    C = C_view.view(A.dtype).reshape(-1, A.shape[1])\n",
    "    return C\n",
    "\n",
    "unsampled_triangles = set_difference(triangles, upward_triangles)\n",
    "# Extrac all components from unsampled_triangles except the biggest one\n",
    "unsampled_mesh = copy.deepcopy(intraoral_mesh_rc)\n",
    "unsampled_mesh.triangles = o3d.utility.Vector3iVector(unsampled_triangles)\n",
    "\n",
    "def remove_max_component(mesh):\n",
    "    \"\"\" Remove the biggest component from the mesh\"\"\"\n",
    "    triangles = np.asarray(mesh.triangles)\n",
    "    components = np.array(mesh.cluster_connected_triangles()[0])\n",
    "    comp_sizes = np.bincount(components)\n",
    "    max_comp_index = np.argmax(comp_sizes)\n",
    "    max_comp_mask = components == max_comp_index\n",
    "    residual_mesh = copy.deepcopy(mesh)\n",
    "    residual_triangles = triangles[np.logical_not(max_comp_mask)]\n",
    "    residual_mesh.triangles = o3d.utility.Vector3iVector(residual_triangles)\n",
    "\n",
    "    mesh.triangles = o3d.utility.Vector3iVector(triangles[max_comp_mask]) # keep the biggest component\n",
    "    return residual_mesh, mesh\n",
    "residual_mesh, unsampled_mesh = remove_max_component(unsampled_mesh)\n",
    "# Add the unsampled mesh to the upward mesh\n",
    "upward_mesh += residual_mesh\n",
    "\n",
    "\n",
    "# Draw 2 yz planes at x=14 and x=-14\n",
    "plane1 = o3d.geometry.TriangleMesh.create_box(width=0.1, height=50, depth=50)\n",
    "plane1.translate([15, 0, 0])\n",
    "plane1.paint_uniform_color([0.8, 0.8, 0.8])\n",
    "\n",
    "plane2 = o3d.geometry.TriangleMesh.create_box(width=0.1, height=50, depth=50)\n",
    "plane2.translate([-15, 0, 0])\n",
    "plane2.paint_uniform_color([0.8, 0.8, 0.8])\n",
    "\n",
    "# colors = np.asarray(upward_mesh.vertex_colors)\n",
    "# colors[upward_mask] = [1, 0, 0]\n",
    "# upward_mesh.vertex_colors = o3d.utility.Vector3dVector(colors)\n",
    "o3d.visualization.draw_geometries([upward_mesh, axes, plane1, plane2])\n",
    "\n"
   ]
  },
  {
   "cell_type": "markdown",
   "metadata": {},
   "source": [
    "#### Then separate inner and outer face"
   ]
  },
  {
   "cell_type": "code",
   "execution_count": 29,
   "metadata": {},
   "outputs": [],
   "source": [
    "# Separate the original mesh vertices into inward-facing and outward-facing vertices relative to the origin\n",
    "# With original (non re-centered mesh)\n",
    "\n",
    "def separate_mesh_vertices_io(mesh):\n",
    "    vertices = np.asarray(mesh.vertices)\n",
    "    triangles = np.asarray(mesh.triangles)\n",
    "    viewpt1 = np.mean(vertices, axis=0)\n",
    "    vertices_1 = vertices - viewpt1\n",
    "    viewpt2 = viewpt1 / 2\n",
    "    vertices_2 = vertices - viewpt2\n",
    "\n",
    "\n",
    "    colors = np.asarray(mesh.vertex_colors)\n",
    "    normals = np.asarray(mesh.vertex_normals)\n",
    "\n",
    "    # inward_mask = np.sum(normals * vertices, axis=1) < 0\n",
    "    pos_mask1 = vertices[:, 2] > viewpt1[2]\n",
    "    inward_mask1 = np.logical_and(np.sum(normals * vertices_1, axis=1) < 0, pos_mask1)\n",
    "    pos_mask2 = np.logical_and(viewpt2[2] < vertices[:, 2], vertices[:, 2] < viewpt1[2])\n",
    "    inward_mask2 = np.logical_and(np.sum(normals * vertices_2, axis=1) < 0, pos_mask2)\n",
    "    pos_mask3 = vertices[:, 2] < viewpt2[2]\n",
    "    inward_mask3 = np.logical_and(np.sum(normals * vertices, axis=1) < 0, pos_mask3)\n",
    "\n",
    "    # merge the 3 masks\n",
    "    inward_mask = inward_mask1 + inward_mask2 + inward_mask3\n",
    "    inward_mask_triangles = np.all(inward_mask[triangles], axis=1)\n",
    "    inward_mesh = copy.deepcopy(mesh)\n",
    "    inward_mesh.triangles = o3d.utility.Vector3iVector(triangles[inward_mask_triangles])\n",
    "\n",
    "    outward_mask = np.logical_not(inward_mask)\n",
    "    outward_mask_triangles = np.all(outward_mask[triangles], axis=1)\n",
    "    outward_mesh = copy.deepcopy(mesh)\n",
    "    outward_mesh.vertices = o3d.utility.Vector3dVector(vertices[outward_mask])\n",
    "    outward_mesh.vertex_colors = o3d.utility.Vector3dVector(colors[outward_mask])\n",
    "    return inward_mesh, outward_mesh, inward_mask, outward_mask\n",
    "    "
   ]
  },
  {
   "cell_type": "code",
   "execution_count": 30,
   "metadata": {},
   "outputs": [
    {
     "name": "stdout",
     "output_type": "stream",
     "text": [
      "[Open3D WARNING] GLFW Error: WGL: Failed to make context current: 不支持请求的转换操作。 \n",
      "[Open3D WARNING] GLFW Error: WGL: Failed to make context current: 句柄无效。 \n"
     ]
    }
   ],
   "source": [
    "# Visualize the projected points on the ellipse with color information from the original mesh\n",
    "inward_mesh, outward_mesh, inward_mask, outward_mask = separate_mesh_vertices_io(unsampled_mesh)\n",
    "\n",
    "# Visualize the inward and outward facing vertices\n",
    "visualize_mesh = copy.deepcopy(unsampled_mesh)\n",
    "colors = np.asarray(visualize_mesh.vertex_colors)\n",
    "colors[inward_mask] = [1, 0, 0]\n",
    "colors[outward_mask] = [0, 1, 0]\n",
    "visualize_mesh.vertex_colors = o3d.utility.Vector3dVector(colors)\n",
    "o3d.visualization.draw_geometries([visualize_mesh, upward_mesh, axes])"
   ]
  },
  {
   "cell_type": "markdown",
   "metadata": {},
   "source": [
    "### Projection"
   ]
  },
  {
   "cell_type": "code",
   "execution_count": 31,
   "metadata": {},
   "outputs": [],
   "source": [
    "# Define projection function to project the mesh vertices onto the ellipse\n",
    "def project_mesh_onto_ellipse(mesh, a, b):\n",
    "    vertices = np.asarray(mesh.vertices)\n",
    "    theta = np.arctan2(vertices[:,2], vertices[:,0])\n",
    "    projected_pts = ellipse_coordinates(a, b, theta)\n",
    "    projected_pts[:,1] = vertices[:,1] # keep the y coordinates the same\n",
    "    return projected_pts"
   ]
  },
  {
   "cell_type": "code",
   "execution_count": 32,
   "metadata": {},
   "outputs": [],
   "source": [
    "# Visualize the projected points on the ellipse with color information from the original mesh\n",
    "inward_mesh, outward_mesh, inward_mask, outward_mask = separate_mesh_vertices_io(intraoral_mesh_rc)\n",
    "\n",
    "colors_in = np.asarray(inward_mesh.vertex_colors)\n",
    "colors_out = np.asarray(outward_mesh.vertex_colors)\n",
    "\n",
    "projected_pts_out = project_mesh_onto_ellipse(outward_mesh, a_outer, b_outer)\n",
    "projected_mesh_out = o3d.geometry.PointCloud()\n",
    "projected_mesh_out.points = o3d.utility.Vector3dVector(projected_pts_out)\n",
    "projected_mesh_out.colors = o3d.utility.Vector3dVector(colors_out)\n",
    "\n",
    "\n",
    "# Color original mesh with inward-facing vertices in red, outward-facing vertices unchanegd\n",
    "original_mesh = copy.deepcopy(intraoral_mesh_rc)\n",
    "colors = np.asarray(original_mesh.vertex_colors)\n",
    "colors[inward_mask] = [1, 0, 0]\n",
    "colors[outward_mask] = [0, 0, 1]\n",
    "original_mesh.vertex_colors = o3d.utility.Vector3dVector(colors)\n",
    "# display center of mesh\n",
    "centre = np.mean(np.asarray(original_mesh.vertices), axis=0)\n",
    "centre_mesh = o3d.geometry.PointCloud()\n",
    "centre_mesh.paint_uniform_color([0, 0, 1])\n",
    "centre_mesh.points = o3d.utility.Vector3dVector([centre])\n",
    "\n",
    "\n",
    "\n",
    "o3d.visualization.draw_geometries([original_mesh, outer_ellipse_mesh])\n",
    "\n",
    "\n"
   ]
  },
  {
   "cell_type": "code",
   "execution_count": 33,
   "metadata": {},
   "outputs": [],
   "source": [
    "\n",
    "projected_pts_in = project_mesh_onto_ellipse(inward_mesh, a_outer, b_outer)\n",
    "projected_mesh_in = o3d.geometry.PointCloud()\n",
    "projected_mesh_in.points = o3d.utility.Vector3dVector(projected_pts_in)\n",
    "projected_mesh_in.colors = o3d.utility.Vector3dVector(colors[inward_mask])\n",
    "\n",
    "\n",
    "o3d.visualization.draw_geometries([intraoral_mesh_rc, projected_mesh_in, outer_ellipse_mesh, axes])"
   ]
  },
  {
   "cell_type": "code",
   "execution_count": null,
   "metadata": {},
   "outputs": [],
   "source": []
  }
 ],
 "metadata": {
  "kernelspec": {
   "display_name": "base",
   "language": "python",
   "name": "python3"
  },
  "language_info": {
   "codemirror_mode": {
    "name": "ipython",
    "version": 3
   },
   "file_extension": ".py",
   "mimetype": "text/x-python",
   "name": "python",
   "nbconvert_exporter": "python",
   "pygments_lexer": "ipython3",
   "version": "3.9.19"
  }
 },
 "nbformat": 4,
 "nbformat_minor": 2
}

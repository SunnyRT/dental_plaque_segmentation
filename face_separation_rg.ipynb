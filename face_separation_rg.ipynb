{
 "cells": [
  {
   "cell_type": "code",
   "execution_count": 2,
   "metadata": {},
   "outputs": [
    {
     "name": "stdout",
     "output_type": "stream",
     "text": [
      "Jupyter environment detected. Enabling Open3D WebVisualizer.\n",
      "[Open3D INFO] WebRTC GUI backend enabled.\n",
      "[Open3D INFO] WebRTCWindowSystem: HTTP handshake server disabled.\n"
     ]
    }
   ],
   "source": [
    "import open3d as o3d\n",
    "import numpy as np\n",
    "import copy\n",
    "import cv2\n",
    "import matplotlib.pyplot as plt\n",
    "import os"
   ]
  },
  {
   "cell_type": "markdown",
   "metadata": {},
   "source": [
    "Load mesh"
   ]
  },
  {
   "cell_type": "code",
   "execution_count": 207,
   "metadata": {},
   "outputs": [],
   "source": [
    "# Load the meshes\n",
    "mesh_name = \"001201\" # must be 4 digits: xx01 indicates lower jaw, xx02 indicates upper jaw\n",
    "origin_file_path = f\"D:\\sunny\\Codes\\DPS\\data_teethseg\\origin\\{mesh_name}_origin.ply\"\n",
    "label_file_path = f\"D:\\sunny\\Codes\\DPS\\data_teethseg\\label\\{mesh_name}.ply\"\n",
    "origin_mesh = o3d.io.read_triangle_mesh(origin_file_path)\n",
    "label_mesh = o3d.io.read_triangle_mesh(label_file_path)\n",
    "\n",
    "# recentre the meshes\n",
    "origin_mesh = origin_mesh.translate(-origin_mesh.get_center())\n",
    "label_mesh = label_mesh.translate(-label_mesh.get_center())\n",
    "\n"
   ]
  },
  {
   "cell_type": "code",
   "execution_count": 208,
   "metadata": {},
   "outputs": [],
   "source": [
    "origin_mesh.compute_vertex_normals()\n",
    "vertices = np.asarray(origin_mesh.vertices)\n",
    "triangles = np.asarray(origin_mesh.triangles)   "
   ]
  },
  {
   "cell_type": "markdown",
   "metadata": {},
   "source": [
    "Region Growth"
   ]
  },
  {
   "cell_type": "code",
   "execution_count": 209,
   "metadata": {},
   "outputs": [],
   "source": [
    "def find_seed_points(mesh): # grow from top (upper face)\n",
    "    # Get the vertices as a numpy array\n",
    "    vertices = np.asarray(mesh.vertices)\n",
    "\n",
    "    # get the index of the vertex with the minimum z value within the range\n",
    "    x_range = [-0.5, 0.5]\n",
    "    possible_seed_indices = np.where((vertices[:, 0] > x_range[0]) & (vertices[:, 0] < x_range[1]))[0]\n",
    "    seed_index = possible_seed_indices[np.argmin(vertices[possible_seed_indices, 2])]\n",
    "\n",
    "    # get coordinates of the seed point\n",
    "    seed_point = vertices[seed_index]\n",
    "    print(\"Seed point:\", seed_point)\n",
    "    # unlabeled_indices = np.where(seg_labels == -1)[0]\n",
    "    # seed_index = unlabeled_indices[np.argmin(vertices[unlabeled_indices, 1])]\n",
    "    \n",
    "    return seed_index\n",
    "\n",
    "def create_adjacency_list(mesh):\n",
    "    adjacency_list = {i: set() for i in range(len(mesh.vertices))}\n",
    "    triangles = np.asarray(mesh.triangles)\n",
    "    for triangle in triangles:\n",
    "        for i, j in zip(triangle, triangle[[1, 2, 0]]):\n",
    "            adjacency_list[i].add(j)\n",
    "            adjacency_list[j].add(i)\n",
    "    return adjacency_list\n",
    "\n",
    "\n",
    "def region_growing_segmentation(mesh, adjacency_list, seed_index, normal_diff_threshold, normal_y_threshold):\n",
    "    \"\"\"\n",
    "    Perform region growing segmentation on a mesh starting from a seed index using only z-axis distance.\n",
    "\n",
    "    Parameters:\n",
    "    - mesh: open3d.geometry.TriangleMesh, the input mesh\n",
    "    - adjacency_list: dict, adjacency list of vertices\n",
    "    - seed_index: int, the index of the seed vertex (start from gum)\n",
    "\n",
    "    - normal_threshold: float, normal dot product threshold for region growing\n",
    "    - color_threshold: float, color difference threshold for region growing\n",
    "\n",
    "    Returns:\n",
    "    - seg_labels: np.ndarray, an array of seg_labels for each vertex in the mesh\n",
    "    \n",
    "    Labels:\n",
    "    - 0: within the upper region \n",
    "    - 1: boundary of the upper region \n",
    "\n",
    "    - -1: unlabeled, upper face \n",
    "    \"\"\"\n",
    "\n",
    "    vertices = np.asarray(mesh.vertices)\n",
    "    normals = np.asarray(mesh.vertex_normals)\n",
    "    colors = np.asarray(mesh.vertex_colors)\n",
    "\n",
    "    region=[seed_index]\n",
    "    seg_labels = np.full(len(vertices), -1, dtype=int) # -1: unlabeled\n",
    "    print(seg_labels.shape)\n",
    "\n",
    "    # grow from the upper region\n",
    "    seg_labels = grow_from_seed(region, vertices, normals, colors, adjacency_list, \n",
    "                                seg_labels, normal_diff_threshold, normal_y_threshold)\n",
    "\n",
    "    return seg_labels\n",
    "\n",
    "def grow_from_seed(region, vertices, normals, colors, adjacency_list, \n",
    "                   seg_labels, normal_diff_threshold, normal_y_threshold):\n",
    "    while region:\n",
    "        current_index = region.pop()\n",
    "        current_normal = normals[current_index]\n",
    "\n",
    "        \n",
    "        for neighbor_index in adjacency_list[current_index]:\n",
    "            if seg_labels[neighbor_index] == -1:\n",
    "                neighbor_vertex = vertices[neighbor_index]\n",
    "                neighbor_normal = normals[neighbor_index]\n",
    "                neighbor_color = colors[neighbor_index]\n",
    "                \n",
    "                normal_dot_y = np.dot(current_normal[1], neighbor_normal[1]) # track normal change in y-axis\n",
    "                print(\"norm_dot:\", normal_dot_y)\n",
    "                print(\"neighbor_y:\", neighbor_vertex[1])\n",
    "                \n",
    "                if normal_dot_y > normal_diff_threshold and neighbor_vertex[1] > normal_y_threshold: # normal change in y-axis and within the upper region\n",
    "                    seg_labels[neighbor_index] = 0 # within the upper region\n",
    "                    region.append(neighbor_index)\n",
    "                else:\n",
    "                    seg_labels[neighbor_index] = 1 # boundary\n",
    "    \n",
    "    return seg_labels\n"
   ]
  },
  {
   "cell_type": "code",
   "execution_count": 210,
   "metadata": {},
   "outputs": [],
   "source": [
    "# Visualize the segmentation\n",
    "def display_region_growth_outcome(mesh, seg_labels, seed_index):\n",
    "    # Duplicate the original mesh\n",
    "    mesh_copy = copy.deepcopy(mesh)\n",
    "    \n",
    "    # Update the vertex colors based on labels for visualization\n",
    "    colors = np.asarray(mesh_copy.vertex_colors)\n",
    "    vertices = np.asarray(mesh_copy.vertices)\n",
    "    for i in range(len(seg_labels)):\n",
    "        if seg_labels[i] == 0:\n",
    "            colors[i] = [0, 1, 0]  # Green for outer region\n",
    "        elif seg_labels[i] == 1:\n",
    "            colors[i] = [0, 0, 1]  # Blue for inner region\n",
    "        elif seg_labels[i] == 2:\n",
    "            colors[i] = [1, 1, 0]  # yellow for outer boundaries\n",
    "        elif seg_labels[i] == 3:\n",
    "            colors[i] = [1, 0, 1] # purple for inner boundaries\n",
    "        # Else keep the original color for label -1 (default color)\n",
    "        else:\n",
    "            assert seg_labels[i] == -1, \"Invalid label value\"\n",
    "    \n",
    "    # draw a sphere at the seed point\n",
    "    seed_point = vertices[seed_index]\n",
    "    sphere = o3d.geometry.TriangleMesh.create_sphere(radius=2)\n",
    "    sphere = sphere.translate(seed_point)\n",
    "\n",
    "\n",
    "    # Assign the updated colors back to the mesh\n",
    "    mesh_copy.vertex_colors = o3d.utility.Vector3dVector(colors)\n",
    "    \n",
    "    # coordinates axes\n",
    "    axes = o3d.geometry.TriangleMesh.create_coordinate_frame(size=20, origin=[0, 0, 0])\n",
    "    # Visualize the segmented mesh with color labels\n",
    "    o3d.visualization.draw_geometries([mesh_copy, sphere, axes])"
   ]
  },
  {
   "cell_type": "code",
   "execution_count": 211,
   "metadata": {},
   "outputs": [
    {
     "name": "stdout",
     "output_type": "stream",
     "text": [
      "Seed point: [ 0.1804302  -4.25467998  5.75339616]\n",
      "(20210,)\n",
      "norm_dot: 0.9366416725968975\n",
      "neighbor_y: -4.200435285989574\n",
      "norm_dot: 0.9161926746426715\n",
      "neighbor_y: -4.239801470157595\n"
     ]
    }
   ],
   "source": [
    "adjacency_list = create_adjacency_list(origin_mesh)\n",
    "\n",
    "# Initialize seg_labels array    \n",
    "seed_index = find_seed_points(origin_mesh)\n",
    "\n",
    "# Set the threshold values\n",
    "normal_diff_threshold = 0.12\n",
    "normal_y_threshold = -1.36\n",
    "\n",
    "seg_labels = region_growing_segmentation(origin_mesh, adjacency_list, seed_index, normal_diff_threshold=normal_diff_threshold, normal_y_threshold=normal_y_threshold)"
   ]
  },
  {
   "cell_type": "code",
   "execution_count": 212,
   "metadata": {},
   "outputs": [
    {
     "name": "stdout",
     "output_type": "stream",
     "text": [
      "unlabeled:\n",
      "(20208,)\n",
      "within upper region:\n",
      "(0,)\n",
      "on upper boundary:\n",
      "(2,)\n"
     ]
    }
   ],
   "source": [
    "print(\"unlabeled:\")\n",
    "print(np.where(seg_labels == -1)[0].shape)\n",
    "print(\"within upper region:\")\n",
    "print(np.where(seg_labels == 0)[0].shape)\n",
    "\n",
    "print(\"on upper boundary:\")\n",
    "print(np.where(seg_labels == 1)[0].shape)\n",
    "\n",
    "\n",
    "display_region_growth_outcome(origin_mesh, seg_labels, seed_index=seed_index)"
   ]
  },
  {
   "cell_type": "code",
   "execution_count": null,
   "metadata": {},
   "outputs": [],
   "source": []
  },
  {
   "cell_type": "code",
   "execution_count": null,
   "metadata": {},
   "outputs": [],
   "source": []
  }
 ],
 "metadata": {
  "kernelspec": {
   "display_name": "base",
   "language": "python",
   "name": "python3"
  },
  "language_info": {
   "codemirror_mode": {
    "name": "ipython",
    "version": 3
   },
   "file_extension": ".py",
   "mimetype": "text/x-python",
   "name": "python",
   "nbconvert_exporter": "python",
   "pygments_lexer": "ipython3",
   "version": "3.9.19"
  }
 },
 "nbformat": 4,
 "nbformat_minor": 2
}

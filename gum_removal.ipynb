{
 "cells": [
  {
   "cell_type": "code",
   "execution_count": null,
   "metadata": {},
   "outputs": [
    {
     "ename": "",
     "evalue": "",
     "output_type": "error",
     "traceback": [
      "\u001b[1;31mFailed to start the Kernel. \n",
      "\u001b[1;31mRuntimeError: <_overlapped.Overlapped object at 0x0000022F2EDE60C0> still has pending operation at deallocation, the process may crash. \n",
      "\u001b[1;31mView Jupyter <a href='command:jupyter.viewOutput'>log</a> for further details."
     ]
    }
   ],
   "source": [
    "import open3d as o3d\n",
    "import numpy as np\n",
    "import os\n",
    "import shutil\n",
    "import copy"
   ]
  },
  {
   "cell_type": "markdown",
   "metadata": {},
   "source": [
    "# Open3d Visualization"
   ]
  },
  {
   "cell_type": "markdown",
   "metadata": {},
   "source": [
    "### Test"
   ]
  },
  {
   "cell_type": "code",
   "execution_count": 2,
   "metadata": {},
   "outputs": [],
   "source": [
    "# Create a test sphere\n",
    "sphere = o3d.geometry.TriangleMesh.create_sphere(radius=1.0, resolution=20)\n",
    "sphere.compute_vertex_normals()\n",
    "\n",
    "# Visualize the mesh\n",
    "o3d.visualization.draw_geometries([sphere])\n"
   ]
  },
  {
   "cell_type": "markdown",
   "metadata": {},
   "source": [
    "### Custom Coordinate Axes"
   ]
  },
  {
   "cell_type": "code",
   "execution_count": 3,
   "metadata": {},
   "outputs": [],
   "source": [
    "def create_custom_axes(length=100.0, thickness=10.0):\n",
    "    \"\"\"Create custom coordinate axes with specified length and fixed thickness.\"\"\"\n",
    "    axes = o3d.geometry.LineSet()\n",
    "    points = [[0, 0, 0], [length, 0, 0], [0, length, 0], [0, 0, length]]\n",
    "    lines = [[0, 1], [0, 2], [0, 3]]\n",
    "    colors = [[1, 0, 0], [0, 1, 0], [0, 0, 1]]\n",
    "    axes.points = o3d.utility.Vector3dVector(points)\n",
    "    axes.lines = o3d.utility.Vector2iVector(lines)\n",
    "    axes.colors = o3d.utility.Vector3dVector(colors)\n",
    "    return axes\n",
    "\n",
    "# Create custom coordinate axes with longer length\n",
    "custom_axes = create_custom_axes(length=100.0)"
   ]
  },
  {
   "cell_type": "markdown",
   "metadata": {},
   "source": [
    "### Grid"
   ]
  },
  {
   "cell_type": "code",
   "execution_count": 4,
   "metadata": {},
   "outputs": [],
   "source": [
    "# Create a grid\n",
    "grid_lines = []\n",
    "for i in range(-50, 51):\n",
    "    grid_lines.append(([i, 0, -50], [i, 0, -50]))\n",
    "    grid_lines.append(([-50, 0, i], [50, 0, i]))\n",
    "grid = o3d.geometry.LineSet(\n",
    "    points=o3d.utility.Vector3dVector([point for line in grid_lines for point in line]),\n",
    "    lines=o3d.utility.Vector2iVector([[i, i + 1] for i in range(0, len(grid_lines) * 2, 2)])\n",
    ")"
   ]
  },
  {
   "cell_type": "markdown",
   "metadata": {},
   "source": [
    "# PCA Normalization"
   ]
  },
  {
   "cell_type": "code",
   "execution_count": 5,
   "metadata": {},
   "outputs": [],
   "source": [
    "def align_mesh_principal_axes(mesh):\n",
    "    # Compute the covariance matrix of the vertices\n",
    "    vertices = np.asarray(mesh.vertices)\n",
    "    cov = np.cov(vertices.T)\n",
    "    \n",
    "    # Perform eigen decomposition to get the principal axes\n",
    "    eigenvalues, eigenvectors = np.linalg.eigh(cov)\n",
    "    \n",
    "    # Sort the eigenvectors by eigenvalues in descending order\n",
    "    sorted_indices = np.argsort(eigenvalues)[::-1]\n",
    "    eigenvectors = eigenvectors[:, sorted_indices]\n",
    "    \n",
    "    # Align the principal axes to the global axes\n",
    "    # Primary (longest) to X, Secondary to Z, Tertiary to Y\n",
    "    target_axes = np.array([[1, 0, 0],  # X-axis\n",
    "                            [0, 0, 1],  # Z-axis\n",
    "                            [0, 1, 0]]) # Y-axis\n",
    "    \n",
    "    rotation_matrix = np.dot(eigenvectors, target_axes)\n",
    "\n",
    "    # Check for reflection/mirroring, ensure normals are not inverted\n",
    "    if np.linalg.det(rotation_matrix) < 0:\n",
    "        rotation_matrix[:, 2] *= -1\n",
    "\n",
    "    mesh.rotate(rotation_matrix, center=(0, 0, 0))\n",
    "    \n",
    "    return mesh, rotation_matrix\n"
   ]
  },
  {
   "cell_type": "code",
   "execution_count": 6,
   "metadata": {},
   "outputs": [],
   "source": [
    "def center_mesh_bb(mesh):\n",
    "    # Compute the center of the bounding box\n",
    "    bbox = mesh.get_axis_aligned_bounding_box()\n",
    "    bbox_center = bbox.get_center()\n",
    "    \n",
    "    # Translate the mesh to the origin\n",
    "    mesh.translate(-bbox_center)\n",
    "    \n",
    "    return mesh, -bbox_center # translation in x,y,z \n",
    "\n",
    "def compute_centre(mesh):\n",
    "    vertices = np.asarray(mesh.vertices)\n",
    "    centre = np.mean(vertices, axis=0)\n",
    "    # print(f\"vertices mean: {centre}\")\n",
    "    return centre"
   ]
  },
  {
   "cell_type": "code",
   "execution_count": 7,
   "metadata": {},
   "outputs": [],
   "source": [
    "def align_mesh_orientation(mesh): # input mesh must be centered with its bounding box (bb)\n",
    "\n",
    "    centre = compute_centre(mesh)\n",
    "    rotation_matrix = np.eye(3)\n",
    "\n",
    "    if centre[1] < 0:\n",
    "        if centre[2] < 0: \n",
    "            # rotate 180 degrees around x\n",
    "            rotation_matrix = o3d.geometry.get_rotation_matrix_from_xyz([np.pi, 0, 0])\n",
    "            mesh.rotate(rotation_matrix, center=(0, 0, 0))\n",
    "        else: \n",
    "            # rotate 180 degrees around z\n",
    "            rotation_matrix = o3d.geometry.get_rotation_matrix_from_xyz([0, 0, np.pi])\n",
    "            mesh.rotate(rotation_matrix, center=(0, 0, 0))\n",
    "    \n",
    "    else:\n",
    "        if centre[2] < 0:\n",
    "            # rotate 180 degrees around y\n",
    "            rotation_matrix = o3d.geometry.get_rotation_matrix_from_xyz([0, np.pi, 0])\n",
    "            mesh.rotate(rotation_matrix, center=(0, 0, 0))\n",
    "        else:\n",
    "            pass\n",
    "    \n",
    "    # centre = compute_centre(mesh)\n",
    "\n",
    "    return mesh, rotation_matrix"
   ]
  },
  {
   "cell_type": "markdown",
   "metadata": {},
   "source": [
    "# Iterative Region Growth"
   ]
  },
  {
   "cell_type": "code",
   "execution_count": 8,
   "metadata": {},
   "outputs": [],
   "source": [
    "def find_seed_point(mesh, seg_labels): # grow from end boundary of gum (bottom of mesh)\n",
    "    # Get the vertices as a numpy array\n",
    "    vertices = np.asarray(mesh.vertices)\n",
    "    # Find the index of the vertex with min y-coordinate \n",
    "\n",
    "    unlabeled_indices = np.where(seg_labels == -1)[0]\n",
    "    seed_index = unlabeled_indices[np.argmin(vertices[unlabeled_indices, 1])]\n",
    "    \n",
    "    return seed_index\n",
    "\n",
    "def create_adjacency_list(mesh):\n",
    "    adjacency_list = {i: set() for i in range(len(mesh.vertices))}\n",
    "    triangles = np.asarray(mesh.triangles)\n",
    "    for triangle in triangles:\n",
    "        for i, j in zip(triangle, triangle[[1, 2, 0]]):\n",
    "            adjacency_list[i].add(j)\n",
    "            adjacency_list[j].add(i)\n",
    "    return adjacency_list"
   ]
  },
  {
   "cell_type": "code",
   "execution_count": 9,
   "metadata": {},
   "outputs": [],
   "source": [
    "def region_growing_segmentation(mesh, adjacency_list, seed_index, seg_labels, y_threshold=0.02, normal_threshold=0.9, color_threshold=0.1):\n",
    "    \"\"\"\n",
    "    Perform region growing segmentation on a mesh starting from a seed index using only z-axis distance.\n",
    "\n",
    "    Parameters:\n",
    "    - mesh: open3d.geometry.TriangleMesh, the input mesh\n",
    "    - adjacency_list: dict, adjacency list of vertices\n",
    "    - seed_index: int, the index of the seed vertex (start from gum)\n",
    "    - y_threshold: float, y-axis distance threshold for region growing\n",
    "    - normal_threshold: float, normal dot product threshold for region growing\n",
    "    - color_threshold: float, color difference threshold for region growing\n",
    "\n",
    "    Returns:\n",
    "    - seg_labels: np.ndarray, an array of seg_labels for each vertex in the mesh\n",
    "    \n",
    "    Labels:\n",
    "    - 1: within the gum region\n",
    "    - 0: gum-boundary region\n",
    "    - -1: unlabeled, outside the gum region (i.e. teeth region)\n",
    "    \"\"\"\n",
    "\n",
    "    vertices = np.asarray(mesh.vertices)\n",
    "    normals = np.asarray(mesh.vertex_normals)\n",
    "    colors = np.asarray(mesh.vertex_colors)\n",
    "\n",
    "    \n",
    "    region = [seed_index]\n",
    "    seg_labels[seed_index] = 1\n",
    "\n",
    "    while region:\n",
    "        current_index = region.pop()\n",
    "        current_vertex = vertices[current_index]\n",
    "        current_normal = normals[current_index]\n",
    "        current_color = colors[current_index]\n",
    "        \n",
    "        for neighbor_index in adjacency_list[current_index]:\n",
    "            if seg_labels[neighbor_index] == -1:\n",
    "                neighbor_vertex = vertices[neighbor_index]\n",
    "                neighbor_normal = normals[neighbor_index]\n",
    "                neighbor_color = colors[neighbor_index]\n",
    "                \n",
    "                y_distance = abs(current_vertex[2] - neighbor_vertex[2])\n",
    "                normal_dot = np.dot(current_normal, neighbor_normal)\n",
    "                color_diff = np.linalg.norm(current_color - neighbor_color)\n",
    "                \n",
    "                if y_distance < y_threshold and normal_dot > normal_threshold and color_diff < color_threshold:\n",
    "                    seg_labels[neighbor_index] = 0\n",
    "                    region.append(neighbor_index)\n",
    "                else:\n",
    "                    seg_labels[neighbor_index] = 1\n",
    "    \n",
    "    return seg_labels\n"
   ]
  },
  {
   "cell_type": "markdown",
   "metadata": {},
   "source": [
    "# Cleanup Redudant Vertices (Unreferenced)"
   ]
  },
  {
   "cell_type": "code",
   "execution_count": 1,
   "metadata": {},
   "outputs": [],
   "source": [
    "def remove_redundant_vertices(mesh):\n",
    "    # Get the vertices and triangles\n",
    "    vertices = np.asarray(mesh.vertices)\n",
    "    triangles = np.asarray(mesh.triangles)\n",
    "    \n",
    "    # Identify unique vertex indices used in the triangles\n",
    "    unique_vertex_indices = np.unique(triangles)\n",
    "    \n",
    "    # Create a mapping from old vertex indices to new ones\n",
    "    old_to_new_indices = {old_idx: new_idx for new_idx, old_idx in enumerate(unique_vertex_indices)}\n",
    "    \n",
    "    # Create a new list of vertices that are only the used ones\n",
    "    new_vertices = vertices[unique_vertex_indices]\n",
    "    \n",
    "    # Update triangle indices to the new vertex indices\n",
    "    new_triangles = np.array([[old_to_new_indices[old_idx] for old_idx in triangle] for triangle in triangles])\n",
    "    \n",
    "    # Create a new mesh with the cleaned vertices and updated triangles\n",
    "    cleaned_mesh = o3d.geometry.TriangleMesh()\n",
    "    cleaned_mesh.vertices = o3d.utility.Vector3dVector(new_vertices)\n",
    "    cleaned_mesh.triangles = o3d.utility.Vector3iVector(new_triangles)\n",
    "    \n",
    "    # Copy colors, normals, etc. if they exist\n",
    "    if mesh.has_vertex_colors():\n",
    "        cleaned_mesh.vertex_colors = o3d.utility.Vector3dVector(np.asarray(mesh.vertex_colors)[unique_vertex_indices])\n",
    "    if mesh.has_vertex_normals():\n",
    "        cleaned_mesh.vertex_normals = o3d.utility.Vector3dVector(np.asarray(mesh.vertex_normals)[unique_vertex_indices])\n",
    "    \n",
    "    return cleaned_mesh"
   ]
  },
  {
   "cell_type": "markdown",
   "metadata": {},
   "source": [
    "## Visualization"
   ]
  },
  {
   "cell_type": "code",
   "execution_count": 10,
   "metadata": {},
   "outputs": [],
   "source": [
    "def display_region_growth_outcome(mesh, seg_labels, axes, bounding_box):\n",
    "    # Duplicate the original mesh\n",
    "    mesh_copy = copy.deepcopy(mesh)\n",
    "    \n",
    "    # Update the vertex colors based on labels for visualization\n",
    "    colors = np.asarray(mesh_copy.vertex_colors)\n",
    "    for i in range(len(seg_labels)):\n",
    "        if seg_labels[i] == 1:\n",
    "            colors[i] = [0, 1, 0]  # Green for label 1\n",
    "        elif seg_labels[i] == 0:\n",
    "            colors[i] = [1, 0, 0]  # Red for label 0\n",
    "        # Else keep the original color for label -1 (default color)\n",
    "\n",
    "    # Assign the updated colors back to the mesh\n",
    "    mesh_copy.vertex_colors = o3d.utility.Vector3dVector(colors)\n",
    "    \n",
    "    # Visualize the segmented mesh with color labels\n",
    "    o3d.visualization.draw_geometries([mesh_copy, axes, bounding_box])"
   ]
  },
  {
   "cell_type": "markdown",
   "metadata": {},
   "source": [
    "# Complete Preprocessing Implementation"
   ]
  },
  {
   "cell_type": "code",
   "execution_count": 2,
   "metadata": {},
   "outputs": [],
   "source": [
    "def preprocess_file(data_dir, file_base_name, output_dir, y_threshold, normal_threshold, color_threshold):\n",
    "    input_file_path_origin= os.path.join(data_dir, \"origin\", f\"{file_base_name}_origin.ply\")\n",
    "    output_file_path_origin = os.path.join(output_dir,\"origin\", f\"{file_base_name}_origin.ply\")\n",
    "    input_file_path_label = os.path.join(data_dir, \"label\", f\"{file_base_name}.ply\")\n",
    "    output_file_path_label = os.path.join(output_dir, \"label\", f\"{file_base_name}.ply\")\n",
    "\n",
    "\n",
    "    # Load the mesh\n",
    "    mesh = o3d.io.read_triangle_mesh(input_file_path_origin)\n",
    "    \n",
    "    \"\"\"-----------Normalize the PCA axes and bb center the mesh-----------\"\"\"\n",
    "    \"\"\" Track the transformation matrices, which will be applied for the label mesh later\"\"\"\n",
    "    mesh, rot1 = align_mesh_principal_axes(mesh)\n",
    "    mesh, trans2 = center_mesh_bb(mesh)\n",
    "    mesh, rot3 = align_mesh_orientation(mesh)\n",
    "\n",
    "    \"\"\"-----------Perform teeth-gum separation with region growth-----------\"\"\"\n",
    "    mesh.compute_vertex_normals()\n",
    "    vertices = np.asarray(mesh.vertices)\n",
    "    triangles = np.asarray(mesh.triangles)   \n",
    "\n",
    "    # Create adjacency list for vertices\n",
    "    adjacency_list = create_adjacency_list(mesh)\n",
    "\n",
    "    # Initialize seg_labels array\n",
    "    seg_labels = np.full(len(vertices), -1, dtype=int)        \n",
    "    n_teeth_triangles = np.count_nonzero(seg_labels == -1)\n",
    "    n_itr = 0    \n",
    "\n",
    "    while n_teeth_triangles > 22000 and n_itr < 50: # face numbers reduced by half\n",
    "        n_itr += 1\n",
    "        seed_index = find_seed_point(mesh, seg_labels)\n",
    "        seg_labels = region_growing_segmentation(mesh, adjacency_list, seed_index, seg_labels, y_threshold, normal_threshold, color_threshold)\n",
    "        n_teeth_triangles = np.count_nonzero(seg_labels == -1)\n",
    "        # print(f\"Iteration {n_itr}: Number of teeth triangles: {n_teeth_triangles}\")\n",
    "\n",
    "    print(f\"Itr {n_itr} => Number of teeth, gum, boundary triangles: {n_teeth_triangles}, {np.count_nonzero(seg_labels == 1)}, {np.count_nonzero(seg_labels == 0)}\")\n",
    "\n",
    "\n",
    "\n",
    "\n",
    "    \"\"\"-----------Extract and save the segmented mesh-----------\"\"\"\n",
    "    teeth_triangles = triangles[np.all(seg_labels[triangles] == -1, axis=1)]\n",
    "    if len(teeth_triangles) == 0:\n",
    "        raise ValueError(\"No teeth region found.\")\n",
    "\n",
    "    # shutil.copyfile(input_file_path, output_file_path)\n",
    "    mesh.triangles = o3d.utility.Vector3iVector(teeth_triangles)\n",
    "\n",
    "    # Remove disconnected small component pieces => preserve the largest connected component\n",
    "    comps_label = np.array(mesh.cluster_connected_triangles()[0])\n",
    "    assert len(comps_label) == len(teeth_triangles), \"Mismatch between number of triangles and size of comps_label array.\"\n",
    "    maxcomp = np.argmax(np.bincount(comps_label)) # largest connected component\n",
    "    mask_maxcomp = (comps_label == maxcomp)\n",
    "    teeth_triangles = teeth_triangles[mask_maxcomp]\n",
    "    mesh.triangles = o3d.utility.Vector3iVector(teeth_triangles)\n",
    "    \n",
    "    # Correct face normals\n",
    "    mesh.orient_triangles()\n",
    "    mesh.compute_vertex_normals()\n",
    "\n",
    "    # Remove redundant vertices\n",
    "    mesh = remove_redundant_vertices(mesh)\n",
    "\n",
    "    o3d.io.write_triangle_mesh(output_file_path_origin, mesh)\n",
    "\n",
    "\n",
    "    \"\"\"-----------Segment the corresponding label mesh-----------\"\"\"\n",
    "    \n",
    "    # Read the label mesh\n",
    "    if not os.path.exists(input_file_path_label):\n",
    "        print(f\"Label file {input_file_path_label} does not exist.\")\n",
    "    else:\n",
    "        mesh_label = o3d.io.read_triangle_mesh(input_file_path_label)\n",
    "        # reorientate the label mesh with the same transformation matrices as original mesh \n",
    "        mesh_label.rotate(rot1, center = (0, 0, 0))\n",
    "        mesh_label.translate(trans2)\n",
    "        mesh_label.rotate(rot3, center = (0, 0, 0))\n",
    "        mesh_label.triangles = o3d.utility.Vector3iVector(teeth_triangles)\n",
    "\n",
    "        # Correct face normals\n",
    "        mesh_label.orient_triangles()\n",
    "        mesh_label.compute_vertex_normals()\n",
    "\n",
    "        # Remove redundant vertices\n",
    "        mesh_label = remove_redundant_vertices(mesh_label)\n",
    "        \n",
    "        o3d.io.write_triangle_mesh(output_file_path_label, mesh_label)\n",
    "\n"
   ]
  },
  {
   "cell_type": "markdown",
   "metadata": {},
   "source": [
    "### Complete implementation"
   ]
  },
  {
   "cell_type": "code",
   "execution_count": 12,
   "metadata": {},
   "outputs": [],
   "source": [
    "# preprocess_file(data_dir, file_base_name, output_dir, y_threshold, normal_threshold, color_threshold)"
   ]
  },
  {
   "cell_type": "markdown",
   "metadata": {},
   "source": [
    "### Set Path\n"
   ]
  },
  {
   "cell_type": "code",
   "execution_count": 309,
   "metadata": {},
   "outputs": [],
   "source": [
    "data_dir = \"D:\\sunny\\Codes\\DPS\\data\"\n",
    "output_dir = \"D:\\sunny\\Codes\\DPS\\data_teethseg\"\n",
    "file_base_name = \"003501\"\n"
   ]
  },
  {
   "cell_type": "markdown",
   "metadata": {},
   "source": [
    "### Step-by-Step Implementation"
   ]
  },
  {
   "cell_type": "code",
   "execution_count": 310,
   "metadata": {},
   "outputs": [],
   "source": [
    "# generate path\n",
    "input_file_path_origin= os.path.join(data_dir, \"origin\", f\"{file_base_name}_origin.ply\")\n",
    "output_file_path_origin = os.path.join(output_dir,\"origin\", f\"{file_base_name}_origin.ply\")\n",
    "input_file_path_label = os.path.join(data_dir, \"label\", f\"{file_base_name}.ply\")\n",
    "output_file_path_label = os.path.join(output_dir, \"label\", f\"{file_base_name}.ply\")\n",
    "\n",
    "# Load the mesh\n",
    "mesh = o3d.io.read_triangle_mesh(input_file_path_origin)"
   ]
  },
  {
   "cell_type": "code",
   "execution_count": 311,
   "metadata": {},
   "outputs": [],
   "source": [
    "\"\"\"-----------Normalize the PCA axes and bb center the mesh-----------\"\"\"\n",
    "\"\"\" Track the transformation matrices, which will be applied for the label mesh later\"\"\"\n",
    "mesh, rot1 = align_mesh_principal_axes(mesh)\n",
    "mesh, trans2 = center_mesh_bb(mesh)\n",
    "mesh, rot3 = align_mesh_orientation(mesh)\n",
    "\n",
    "# Create a bounding box\n",
    "bounding_box = mesh.get_axis_aligned_bounding_box()\n",
    "bounding_box.color = (0, 0, 0)  # black color for bounding box\n",
    "# Visualize the transformed mesh with custom axes, grid, and bounding box\n",
    "o3d.visualization.draw_geometries([mesh, custom_axes, bounding_box, grid])"
   ]
  },
  {
   "cell_type": "code",
   "execution_count": 336,
   "metadata": {},
   "outputs": [
    {
     "name": "stdout",
     "output_type": "stream",
     "text": [
      "Itr 51 => Number of teeth, gum, boundary triangles: 21997, 2454, 9228\n"
     ]
    }
   ],
   "source": [
    "\"\"\"-----------Perform teeth-gum separation with region growth-----------\"\"\"\n",
    "# TODO: Set the threshold values\n",
    "y_threshold = 11.0\n",
    "normal_threshold = 0.981 # 0.986 \n",
    "color_threshold = 0.05\n",
    "\n",
    "\"\"\"-----------Perform teeth-gum separation with region growth-----------\"\"\"\n",
    "mesh.compute_vertex_normals()\n",
    "vertices = np.asarray(mesh.vertices)\n",
    "triangles = np.asarray(mesh.triangles)   \n",
    "\n",
    "# Create adjacency list for vertices\n",
    "adjacency_list = create_adjacency_list(mesh)\n",
    "\n",
    "# Initialize seg_labels array\n",
    "seg_labels = np.full(len(vertices), -1, dtype=int)        \n",
    "n_teeth_triangles = np.count_nonzero(seg_labels == -1)\n",
    "n_itr = 0    \n",
    "\n",
    "while n_teeth_triangles > 22000 and n_itr < 1000: # face numbers reduced by half\n",
    "    n_itr += 1\n",
    "    seed_index = find_seed_point(mesh, seg_labels)\n",
    "    seg_labels = region_growing_segmentation(mesh, adjacency_list, seed_index, seg_labels, y_threshold, normal_threshold, color_threshold)\n",
    "    n_teeth_triangles = np.count_nonzero(seg_labels == -1)\n",
    "    # print(f\"Iteration {n_itr}: Number of teeth triangles: {n_teeth_triangles}\")\n",
    "\n",
    "print(f\"Itr {n_itr} => Number of teeth, gum, boundary triangles: {n_teeth_triangles}, {np.count_nonzero(seg_labels == 1)}, {np.count_nonzero(seg_labels == 0)}\")\n",
    "\n",
    "# Visualize the outcome of region growing segmentation\n",
    "display_region_growth_outcome(mesh, seg_labels, custom_axes, bounding_box)"
   ]
  },
  {
   "cell_type": "code",
   "execution_count": 297,
   "metadata": {},
   "outputs": [],
   "source": [
    "\"\"\"-----------Extract and visualize the segmented mesh-----------\"\"\"\n",
    "teeth_triangles = triangles[np.all(seg_labels[triangles] == -1, axis=1)]\n",
    "if len(teeth_triangles) == 0:\n",
    "    raise ValueError(\"No teeth region found.\")\n",
    "\n",
    "# shutil.copyfile(input_file_path, output_file_path)\n",
    "mesh.triangles = o3d.utility.Vector3iVector(teeth_triangles)\n",
    "\n",
    "# Remove disconnected small component pieces => preserve the largest connected component\n",
    "comps_label = np.array(mesh.cluster_connected_triangles()[0])\n",
    "assert len(comps_label) == len(teeth_triangles), \"Mismatch between number of triangles and size of comps_label array.\"\n",
    "# largest connected component\n",
    "maxcomp = np.argmax(np.bincount(comps_label)) \n",
    "\n",
    "# second largest connected component\n",
    "# maxcomp2 = np.argmax(np.bincount(comps_label, weights = (comps_label != maxcomp).astype(int)))\n",
    "# third largest connected component\n",
    "# maxcomp3 = np.argmax(np.bincount(comps_label, weights = (comps_label != maxcomp).astype(int) & (comps_label != maxcomp2).astype(int)))\n",
    "# concatenate all comps\n",
    "# mask_maxcomp = (comps_label == maxcomp) | (comps_label == maxcomp2)\n",
    "# mask_maxcomp = (comps_label == maxcomp) | (comps_label == maxcomp2) | (comps_label == maxcomp3)\n",
    "\n",
    "mask_maxcomp = (comps_label == maxcomp)\n",
    "teeth_triangles = teeth_triangles[mask_maxcomp]\n",
    "mesh.triangles = o3d.utility.Vector3iVector(teeth_triangles)\n",
    "\n",
    "# Correct face normals\n",
    "mesh.orient_triangles()\n",
    "mesh.compute_vertex_normals()\n",
    "\n",
    "# Remove redundant vertices\n",
    "mesh = remove_redundant_vertices(mesh)\n",
    "\n",
    "# Create a bounding box\n",
    "bounding_box = mesh.get_axis_aligned_bounding_box()\n",
    "bounding_box.color = (0, 0, 0)  # black color for bounding box\n",
    "# Visualize the transformed mesh with custom axes, grid, and bounding box\n",
    "o3d.visualization.draw_geometries([mesh, custom_axes, bounding_box, grid])\n"
   ]
  },
  {
   "cell_type": "code",
   "execution_count": 298,
   "metadata": {},
   "outputs": [],
   "source": [
    "\"\"\" Segment the corresponding label mesh and save both segmented meshes \"\"\"\n",
    "o3d.io.write_triangle_mesh(output_file_path_origin, mesh)\n",
    "\n",
    "# Read the label mesh\n",
    "if not os.path.exists(input_file_path_label):\n",
    "    print(f\"Label file {input_file_path_label} does not exist.\")\n",
    "else:\n",
    "    mesh_label = o3d.io.read_triangle_mesh(input_file_path_label)\n",
    "    # reorientate the label mesh with the same transformation matrices as original mesh \n",
    "    mesh_label.rotate(rot1, center = (0, 0, 0))\n",
    "    mesh_label.translate(trans2)\n",
    "    mesh_label.rotate(rot3, center = (0, 0, 0))\n",
    "    mesh_label.triangles = o3d.utility.Vector3iVector(teeth_triangles)\n",
    "\n",
    "    # Correct face normals\n",
    "    mesh_label.orient_triangles()\n",
    "    mesh_label.compute_vertex_normals()\n",
    "    # Remove redundant vertices\n",
    "    mesh_label = remove_redundant_vertices(mesh_label)\n",
    "    o3d.io.write_triangle_mesh(output_file_path_label, mesh_label)"
   ]
  },
  {
   "cell_type": "code",
   "execution_count": null,
   "metadata": {},
   "outputs": [],
   "source": []
  }
 ],
 "metadata": {
  "kernelspec": {
   "display_name": "env_dps",
   "language": "python",
   "name": "python3"
  },
  "language_info": {
   "codemirror_mode": {
    "name": "ipython",
    "version": 3
   },
   "file_extension": ".py",
   "mimetype": "text/x-python",
   "name": "python",
   "nbconvert_exporter": "python",
   "pygments_lexer": "ipython3",
   "version": "3.9.19"
  }
 },
 "nbformat": 4,
 "nbformat_minor": 2
}

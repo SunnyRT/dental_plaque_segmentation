{
 "cells": [
  {
   "cell_type": "code",
   "execution_count": 37,
   "metadata": {},
   "outputs": [],
   "source": [
    "# Import necessary modules\n",
    "import os\n",
    "import tempfile\n",
    "import subprocess\n",
    "from plyfile import PlyData\n",
    "from PIL import Image\n",
    "import IPython.display as display\n"
   ]
  },
  {
   "cell_type": "code",
   "execution_count": 39,
   "metadata": {},
   "outputs": [],
   "source": [
    "# Define paths for input and output\n",
    "ply_file_path = r\"D:\\sunny\\Codes\\DPS\\data_teethseg\\origin\\000101_origin.ply\"\n",
    "output_uv_layout_dir = r\"D:\\sunny\\Codes\\DPS\\data_bpy_map\"\n",
    "\n",
    "# Load PLY file using plyfile\n",
    "ply_data = PlyData.read(ply_file_path)\n",
    "\n",
    "# Convert PLY data to a format that Blender can import\n",
    "vertices = [(vertex['x'], vertex['y'], vertex['z']) for vertex in ply_data['vertex']]\n",
    "faces = [list(face[0]) for face in ply_data['face']]"
   ]
  },
  {
   "cell_type": "code",
   "execution_count": null,
   "metadata": {},
   "outputs": [],
   "source": [
    "blender_script = \"\"\"\n",
    "import bpy\n",
    "import os\n",
    "\n",
    "# Define a log function\n",
    "def log(message):\n",
    "    with open(\"{log_file}\", \"a\") as log:\n",
    "        log.write(message + \"\\\\n\")\n",
    "    print(message)\n",
    "\n",
    "log(\"Creating new mesh\")\n",
    "# Create a new mesh\n",
    "mesh = bpy.data.meshes.new(name=\"PLYMesh\")\n",
    "obj = bpy.data.objects.new(name=\"PLYObject\", object_data=mesh)\n",
    "bpy.context.collection.objects.link(obj)\n",
    "bpy.context.view_layer.objects.active = obj\n",
    "obj.select_set(True)\n",
    "\n",
    "log(\"Creating mesh from vertices and faces\")\n",
    "# Create mesh from given vertices and faces\n",
    "mesh.from_pydata({vertices}, [], {faces})\n",
    "mesh.update()\n",
    "\n",
    "log(\"Entering edit mode\")\n",
    "# Ensure we are in edit mode\n",
    "bpy.ops.object.mode_set(mode='EDIT')\n",
    "\n",
    "log(\"Selecting the entire mesh\")\n",
    "# Select the entire mesh\n",
    "bpy.ops.mesh.select_all(action='SELECT')\n",
    "\n",
    "log(\"Performing Smart UV Project\")\n",
    "# Perform Smart UV Project to mark seams\n",
    "bpy.ops.uv.smart_project(angle_limit=66.0, island_margin=0.02)\n",
    "\n",
    "log(\"Switching to object mode\")\n",
    "# Switch to object mode to access UV layout\n",
    "bpy.ops.object.mode_set(mode='OBJECT')\n",
    "\n",
    "log(\"Exporting UV layout to PNG\")\n",
    "# Save the UV layout as a PNG file\n",
    "output_uv_layout_path = os.path.join(\"{output_uv_layout_dir}\", \"uv_layout.png\")\n",
    "bpy.ops.uv.export_layout(filepath=output_uv_layout_path, size=(1024, 1024), export_all=True)\n",
    "\n",
    "log(\"Quitting Blender\")\n",
    "# Close Blender after execution\n",
    "bpy.ops.wm.quit_blender()\n",
    "\"\"\""
   ]
  },
  {
   "cell_type": "code",
   "execution_count": 61,
   "metadata": {},
   "outputs": [],
   "source": [
    "# Format the script with the vertices, faces, and output path\n",
    "blender_script = blender_script.format(\n",
    "    vertices=vertices, \n",
    "    faces=faces,\n",
    "    output_uv_layout_dir=output_uv_layout_dir\n",
    ")\n",
    "\n",
    "# Save the script to a temporary file using tempfile\n",
    "with tempfile.NamedTemporaryFile(delete=False, suffix=\".py\") as temp_file:\n",
    "    temp_file.write(blender_script.encode('utf-8'))\n",
    "    script_filepath = temp_file.name\n",
    "\n",
    "# Path to the Blender executable\n",
    "blender_executable = r\"D:\\Program Files\\Blender Foundation\\Blender 4.2\\blender.exe\"\n"
   ]
  },
  {
   "cell_type": "code",
   "execution_count": 62,
   "metadata": {},
   "outputs": [],
   "source": [
    "# Check if the Blender executable exists\n",
    "if not os.path.exists(blender_executable):\n",
    "    raise FileNotFoundError(f\"Blender executable not found at {blender_executable}\")\n",
    "\n",
    "# Check if the script file exists\n",
    "if not os.path.exists(script_filepath):\n",
    "    raise FileNotFoundError(f\"Script file not found at {script_filepath}\")"
   ]
  },
  {
   "cell_type": "code",
   "execution_count": 63,
   "metadata": {},
   "outputs": [
    {
     "name": "stdout",
     "output_type": "stream",
     "text": [
      "Blender 4.2.0 (hash a51f293548ad built 2024-07-16 06:29:33)\n",
      "\n",
      "Blender quit\n",
      "\n",
      "Traceback (most recent call last):\n",
      "  File \"C:\\Users\\sunny\\AppData\\Local\\Temp\\tmpj16k_exp.py\", line 35, in <module>\n",
      "    offscreen = gpu.types.GPUOffScreen(width, height)\n",
      "                ^^^^^^^^^^^^^^^^^^^^^^^^^^^^^^^^^^^^^\n",
      "SystemError: GPU functions for drawing are not available in background mode\n",
      "\n"
     ]
    }
   ],
   "source": [
    "# Run Blender in background mode with the script and capture the output\n",
    "result = subprocess.run(\n",
    "    [blender_executable, \"--background\", \"--python\", script_filepath],\n",
    "    capture_output=True, text=True\n",
    ")\n",
    "\n",
    "\n",
    "# Print Blender's output for debugging\n",
    "print(result.stdout)\n",
    "print(result.stderr)\n",
    "\n",
    "# Check for errors in Blender's execution\n",
    "if result.returncode != 0:\n",
    "    raise RuntimeError(f\"Blender execution failed: {result.stderr}\")\n"
   ]
  },
  {
   "cell_type": "code",
   "execution_count": 65,
   "metadata": {},
   "outputs": [
    {
     "ename": "FileNotFoundError",
     "evalue": "UV layout image not found at D:\\sunny\\Codes\\DPS\\data_bpy_map\\uv_layout.png",
     "output_type": "error",
     "traceback": [
      "\u001b[1;31m---------------------------------------------------------------------------\u001b[0m",
      "\u001b[1;31mFileNotFoundError\u001b[0m                         Traceback (most recent call last)",
      "Cell \u001b[1;32mIn[65], line 7\u001b[0m\n\u001b[0;32m      5\u001b[0m uv_layout_image_path \u001b[38;5;241m=\u001b[39m os\u001b[38;5;241m.\u001b[39mpath\u001b[38;5;241m.\u001b[39mjoin(output_uv_layout_dir, \u001b[38;5;124m\"\u001b[39m\u001b[38;5;124muv_layout.png\u001b[39m\u001b[38;5;124m\"\u001b[39m)\n\u001b[0;32m      6\u001b[0m \u001b[38;5;28;01mif\u001b[39;00m \u001b[38;5;129;01mnot\u001b[39;00m os\u001b[38;5;241m.\u001b[39mpath\u001b[38;5;241m.\u001b[39mexists(uv_layout_image_path):\n\u001b[1;32m----> 7\u001b[0m     \u001b[38;5;28;01mraise\u001b[39;00m \u001b[38;5;167;01mFileNotFoundError\u001b[39;00m(\u001b[38;5;124mf\u001b[39m\u001b[38;5;124m\"\u001b[39m\u001b[38;5;124mUV layout image not found at \u001b[39m\u001b[38;5;132;01m{\u001b[39;00muv_layout_image_path\u001b[38;5;132;01m}\u001b[39;00m\u001b[38;5;124m\"\u001b[39m)\n\u001b[0;32m      9\u001b[0m uv_layout_image \u001b[38;5;241m=\u001b[39m Image\u001b[38;5;241m.\u001b[39mopen(uv_layout_image_path)\n\u001b[0;32m     11\u001b[0m \u001b[38;5;66;03m# Display the UV layout image\u001b[39;00m\n",
      "\u001b[1;31mFileNotFoundError\u001b[0m: UV layout image not found at D:\\sunny\\Codes\\DPS\\data_bpy_map\\uv_layout.png"
     ]
    }
   ],
   "source": [
    "# Run Blender interactively with the script\n",
    "subprocess.run([blender_executable, \"--python\", script_filepath])\n",
    "\n",
    "# Load the generated UV layout image\n",
    "uv_layout_image_path = os.path.join(output_uv_layout_dir, \"uv_layout.png\")\n",
    "if not os.path.exists(uv_layout_image_path):\n",
    "    raise FileNotFoundError(f\"UV layout image not found at {uv_layout_image_path}\")\n",
    "\n",
    "uv_layout_image = Image.open(uv_layout_image_path)\n",
    "\n",
    "# Display the UV layout image\n",
    "display.display(uv_layout_image)"
   ]
  },
  {
   "cell_type": "code",
   "execution_count": null,
   "metadata": {},
   "outputs": [],
   "source": []
  }
 ],
 "metadata": {
  "kernelspec": {
   "display_name": "env_bpy",
   "language": "python",
   "name": "python3"
  },
  "language_info": {
   "codemirror_mode": {
    "name": "ipython",
    "version": 3
   },
   "file_extension": ".py",
   "mimetype": "text/x-python",
   "name": "python",
   "nbconvert_exporter": "python",
   "pygments_lexer": "ipython3",
   "version": "3.11.7"
  }
 },
 "nbformat": 4,
 "nbformat_minor": 2
}

{
 "cells": [
  {
   "cell_type": "markdown",
   "metadata": {},
   "source": [
    "# TO BE FIXED / COMPLETED!!!!"
   ]
  },
  {
   "cell_type": "code",
   "execution_count": 51,
   "metadata": {},
   "outputs": [],
   "source": [
    "import open3d as o3d\n",
    "import numpy as np\n",
    "import matplotlib.pyplot as plt\n",
    "from scipy.interpolate import CubicSpline"
   ]
  },
  {
   "cell_type": "markdown",
   "metadata": {},
   "source": [
    "### 0. Cleanup Mesh"
   ]
  },
  {
   "cell_type": "code",
   "execution_count": 33,
   "metadata": {},
   "outputs": [],
   "source": [
    "def remove_redundant_vertices(mesh):\n",
    "    # Get the vertices and triangles\n",
    "    vertices = np.asarray(mesh.vertices)\n",
    "    triangles = np.asarray(mesh.triangles)\n",
    "    \n",
    "    # Identify unique vertex indices used in the triangles\n",
    "    unique_vertex_indices = np.unique(triangles)\n",
    "    \n",
    "    # Create a mapping from old vertex indices to new ones\n",
    "    old_to_new_indices = {old_idx: new_idx for new_idx, old_idx in enumerate(unique_vertex_indices)}\n",
    "    \n",
    "    # Create a new list of vertices that are only the used ones\n",
    "    new_vertices = vertices[unique_vertex_indices]\n",
    "    \n",
    "    # Update triangle indices to the new vertex indices\n",
    "    new_triangles = np.array([[old_to_new_indices[old_idx] for old_idx in triangle] for triangle in triangles])\n",
    "    \n",
    "    # Create a new mesh with the cleaned vertices and updated triangles\n",
    "    cleaned_mesh = o3d.geometry.TriangleMesh()\n",
    "    cleaned_mesh.vertices = o3d.utility.Vector3dVector(new_vertices)\n",
    "    cleaned_mesh.triangles = o3d.utility.Vector3iVector(new_triangles)\n",
    "    \n",
    "    # Copy colors, normals, etc. if they exist\n",
    "    if mesh.has_vertex_colors():\n",
    "        cleaned_mesh.vertex_colors = o3d.utility.Vector3dVector(np.asarray(mesh.vertex_colors)[unique_vertex_indices])\n",
    "    if mesh.has_vertex_normals():\n",
    "        cleaned_mesh.vertex_normals = o3d.utility.Vector3dVector(np.asarray(mesh.vertex_normals)[unique_vertex_indices])\n",
    "    \n",
    "    return cleaned_mesh"
   ]
  },
  {
   "cell_type": "code",
   "execution_count": 34,
   "metadata": {},
   "outputs": [],
   "source": [
    "# Load the mesh\n",
    "intraoral_mesh = o3d.io.read_triangle_mesh(r'D:\\sunny\\Codes\\DPS\\data_teethseg\\origin\\000101_origin.ply')\n",
    "# print(np.array(mesh.vertices).shape)\n",
    "# print(np.array(mesh.triangles).shape)\n",
    "\n",
    "# Remove redundant vertices\n",
    "intraoral_mesh = remove_redundant_vertices(intraoral_mesh)\n",
    "# print(np.array(mesh.vertices).shape)\n",
    "# print(np.array(mesh.triangles).shape)\n",
    "\n",
    "# Visualize the cleaned mesh\n",
    "o3d.visualization.draw_geometries([intraoral_mesh])"
   ]
  },
  {
   "cell_type": "markdown",
   "metadata": {},
   "source": [
    "### 1. Create Splines and Extrude to Projection Planes"
   ]
  },
  {
   "cell_type": "markdown",
   "metadata": {},
   "source": [
    "Utility functions"
   ]
  },
  {
   "cell_type": "code",
   "execution_count": 45,
   "metadata": {},
   "outputs": [],
   "source": [
    "def calculate_spline_points(mesh, n_points=8, n_spline_points=100):\n",
    "    vertices = np.asarray(mesh.vertices)\n",
    "    angles = np.linspace(0, 2 * np.pi, n_points, endpoint=False)\n",
    "    \n",
    "    min_points = []\n",
    "    max_points = []\n",
    "    \n",
    "    for theta in angles:\n",
    "        direction = np.array([np.cos(theta), 0, np.sin(theta)])\n",
    "        \n",
    "        projections = vertices @ direction\n",
    "        min_index = np.argmin(projections)\n",
    "        max_index = np.argmax(projections)\n",
    "        \n",
    "        min_points.append(vertices[min_index, [0, 2]])\n",
    "        max_points.append(vertices[max_index, [0, 2]])\n",
    "    \n",
    "    min_points = np.array(min_points)\n",
    "    max_points = np.array(max_points)\n",
    "    \n",
    "    # Interpolate using cubic splines\n",
    "    t = np.linspace(0, 2 * np.pi, n_points, endpoint=False)\n",
    "    t_spline = np.linspace(0, 2 * np.pi, n_spline_points)\n",
    "    \n",
    "    spline_min_x = CubicSpline(t, min_points[:, 0])(t_spline)\n",
    "    spline_min_z = CubicSpline(t, min_points[:, 1])(t_spline)\n",
    "    spline_max_x = CubicSpline(t, max_points[:, 0])(t_spline)\n",
    "    spline_max_z = CubicSpline(t, max_points[:, 1])(t_spline)\n",
    "    \n",
    "    spline_min_points = np.vstack((spline_min_x, np.zeros(n_spline_points), spline_min_z)).T\n",
    "    spline_max_points = np.vstack((spline_max_x, np.zeros(n_spline_points), spline_max_z)).T\n",
    "\n",
    "    return spline_min_points, spline_max_points\n",
    "\n",
    "\n",
    "def create_spline_curve(points):\n",
    "    return o3d.geometry.LineSet(\n",
    "        points=o3d.utility.Vector3dVector(points),\n",
    "        lines=o3d.utility.Vector2iVector([[i, (i + 1) % len(points)] for i in range(len(points))])\n",
    "    )\n"
   ]
  },
  {
   "cell_type": "code",
   "execution_count": 46,
   "metadata": {},
   "outputs": [],
   "source": [
    "def extrude_spline(points, extrusion_length_pos, extrusion_length_neg):\n",
    "    extruded_points = []\n",
    "    for y in [extrusion_length_neg, extrusion_length_pos]:\n",
    "        extruded_points.append(np.hstack((points, np.full((points.shape[0], 1), y))))\n",
    "    extruded_points = np.vstack(extruded_points)\n",
    "    extruded_points = extruded_points[:, [0, 2, 1]] # swap back the y and z axis\n",
    "    \n",
    "    # Create triangular faces for the extrusion\n",
    "    n_points = len(points)\n",
    "    faces = []\n",
    "    for i in range(n_points):\n",
    "        next_i = (i + 1) % n_points # Ensure circular connection\n",
    "        # Create two triangles for each face of the cylinder\n",
    "        faces.append([i, next_i, next_i + n_points])\n",
    "        faces.append([i, next_i + n_points, i + n_points])\n",
    "    \n",
    "    return extruded_points, faces"
   ]
  },
  {
   "cell_type": "markdown",
   "metadata": {},
   "source": [
    "Create splines"
   ]
  },
  {
   "cell_type": "code",
   "execution_count": 47,
   "metadata": {},
   "outputs": [
    {
     "name": "stdout",
     "output_type": "stream",
     "text": [
      "[[-36.9082718   -9.35032041]\n",
      " [-31.47106017 -20.41068023]\n",
      " [ 27.53755381 -20.64838084]\n",
      " [ 32.00259003 -18.50693527]\n",
      " [ 36.98967021  -7.78544466]\n",
      " [ 15.42202642  23.19911091]\n",
      " [  4.37705733  28.24925648]\n",
      " [-14.71832703  23.55972164]]\n"
     ]
    }
   ],
   "source": [
    "# Calculate spline points\n",
    "min_spline_points, max_spline_points = calculate_spline_points(intraoral_mesh)\n",
    "\n",
    "# Create spline curves\n",
    "min_spline_curve = create_spline_curve(min_spline_points)\n",
    "max_spline_curve = create_spline_curve(max_spline_points)\n",
    "print(min_spline_points)"
   ]
  },
  {
   "cell_type": "markdown",
   "metadata": {},
   "source": [
    "Extrude to curve planes"
   ]
  },
  {
   "cell_type": "code",
   "execution_count": 48,
   "metadata": {},
   "outputs": [
    {
     "data": {
      "text/plain": [
       "TriangleMesh with 16 points and 16 triangles."
      ]
     },
     "execution_count": 48,
     "metadata": {},
     "output_type": "execute_result"
    }
   ],
   "source": [
    "# Calculate the extrusion length\n",
    "y_min = np.min(np.asarray(intraoral_mesh.vertices)[:, 1])\n",
    "y_max = np.max(np.asarray(intraoral_mesh.vertices)[:, 1])\n",
    "extrusion_length_pos = y_max\n",
    "extrusion_length_neg = y_min\n",
    "\n",
    "# Extrude the spline curves\n",
    "min_spline_extruded_points, min_spline_faces = extrude_spline(min_spline_points, extrusion_length_pos, extrusion_length_neg)\n",
    "max_spline_extruded_points, max_spline_faces = extrude_spline(max_spline_points, extrusion_length_pos, extrusion_length_neg)\n",
    "\n",
    "# Create meshes for the extruded splines\n",
    "min_spline_extruded = o3d.geometry.TriangleMesh()\n",
    "min_spline_extruded.vertices = o3d.utility.Vector3dVector(min_spline_extruded_points)\n",
    "min_spline_extruded.triangles = o3d.utility.Vector3iVector(min_spline_faces)\n",
    "min_spline_extruded.paint_uniform_color([0.5, 1.0, 0.5])\n",
    "\n",
    "max_spline_extruded = o3d.geometry.TriangleMesh()\n",
    "max_spline_extruded.vertices = o3d.utility.Vector3dVector(max_spline_extruded_points)\n",
    "max_spline_extruded.triangles = o3d.utility.Vector3iVector(max_spline_faces)\n",
    "max_spline_extruded.paint_uniform_color([0.5, 0.5, 1.0])\n"
   ]
  },
  {
   "cell_type": "markdown",
   "metadata": {},
   "source": [
    "Visualization"
   ]
  },
  {
   "cell_type": "code",
   "execution_count": 50,
   "metadata": {},
   "outputs": [],
   "source": [
    "# Create coordinate axes\n",
    "coordinate_frame = o3d.geometry.TriangleMesh.create_coordinate_frame(size=10, origin=[0, 0, 0])\n",
    "\n",
    "o3d.visualization.draw_geometries([intraoral_mesh, min_spline_extruded, max_spline_extruded, coordinate_frame])"
   ]
  },
  {
   "cell_type": "code",
   "execution_count": null,
   "metadata": {},
   "outputs": [],
   "source": []
  }
 ],
 "metadata": {
  "kernelspec": {
   "display_name": "env_dps",
   "language": "python",
   "name": "python3"
  },
  "language_info": {
   "codemirror_mode": {
    "name": "ipython",
    "version": 3
   },
   "file_extension": ".py",
   "mimetype": "text/x-python",
   "name": "python",
   "nbconvert_exporter": "python",
   "pygments_lexer": "ipython3",
   "version": "3.9.19"
  }
 },
 "nbformat": 4,
 "nbformat_minor": 2
}

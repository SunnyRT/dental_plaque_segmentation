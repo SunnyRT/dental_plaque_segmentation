{
 "cells": [
  {
   "cell_type": "code",
   "execution_count": 1,
   "metadata": {},
   "outputs": [
    {
     "name": "stdout",
     "output_type": "stream",
     "text": [
      "Jupyter environment detected. Enabling Open3D WebVisualizer.\n",
      "[Open3D INFO] WebRTC GUI backend enabled.\n",
      "[Open3D INFO] WebRTCWindowSystem: HTTP handshake server disabled.\n"
     ]
    }
   ],
   "source": [
    "import open3d as o3d\n",
    "import numpy as np\n",
    "import copy\n",
    "import cv2\n",
    "import matplotlib.pyplot as plt\n",
    "import os"
   ]
  },
  {
   "cell_type": "markdown",
   "metadata": {},
   "source": [
    "### Load 2D predicted mask image for 3 cases (up, in, out):"
   ]
  },
  {
   "cell_type": "code",
   "execution_count": 233,
   "metadata": {},
   "outputs": [
    {
     "name": "stdout",
     "output_type": "stream",
     "text": [
      "pred_img shapes: (512, 768), (256, 2048), (256, 2048)\n",
      "1.0 1.0 1.0\n"
     ]
    }
   ],
   "source": [
    "def load_pred_img(pred2D_path, mesh_name):\n",
    "    \n",
    "    # convert to color range [0, 1]\n",
    "    pred_img_up = cv2.imread(os.path.join(pred2D_path, f\"{mesh_name}_0.png\"), cv2.IMREAD_UNCHANGED)/255\n",
    "    pred_img_in = cv2.imread(os.path.join(pred2D_path, f\"{mesh_name}_1.png\"), cv2.IMREAD_UNCHANGED)/255\n",
    "    pred_img_out = cv2.imread(os.path.join(pred2D_path, f\"{mesh_name}_2.png\"), cv2.IMREAD_UNCHANGED)/255\n",
    "\n",
    "    print(f\"pred_img shapes: {pred_img_up.shape}, {pred_img_in.shape}, {pred_img_out.shape}\")\n",
    "\n",
    "    return pred_img_up, pred_img_in, pred_img_out\n",
    "\n",
    "mesh_name = \"001602\"\n",
    "pred2D_dir = \"D:\\sunny\\Codes\\DPS\\data_png\\pred_0727\"\n",
    "info_dir = \"D:\\sunny\\Codes\\DPS\\data_png\\info\"\n",
    "label_mesh_dir = \"D:\\sunny\\Codes\\DPS\\data_teethseg\\label\"\n",
    "\n",
    "\n",
    "pred_img_up, pred_img_in, pred_img_out = load_pred_img(pred2D_dir, mesh_name)\n",
    "print(np.max(pred_img_up), np.max(pred_img_in), np.max(pred_img_out))"
   ]
  },
  {
   "cell_type": "markdown",
   "metadata": {},
   "source": [
    "### Load reconstruction information:\n",
    "\n",
    "Each file is a dictionary with 6 key components:\n",
    "- \"uvpx_up\": (num_vert, 2)\n",
    "- \"uvpx_in\": (num_vert, 2)\n",
    "- \"uvpx_out\": (num_vert, 2)\n",
    "each row is 2D UV coordinates\n",
    "\n",
    "- \"tri_up\": (num_face_up, 3)\n",
    "- \"tri_in\": (num_face_in, 3)\n",
    "- \"tri_out\": (num_face_out, 3) \n",
    "each row is the 3 vertice indices which form the triangular face"
   ]
  },
  {
   "cell_type": "code",
   "execution_count": 234,
   "metadata": {},
   "outputs": [
    {
     "name": "stdout",
     "output_type": "stream",
     "text": [
      "(20561, 2) (20561, 2) (20561, 2)\n",
      "(15995, 3) (9219, 3) (14650, 3)\n",
      "(20561, 3)\n",
      "(20561, 3)\n"
     ]
    }
   ],
   "source": [
    "info = np.load(os.path.join(info_dir, f\"{mesh_name}.npz\"))\n",
    "uvpx_up = info[\"uvpx_up\"]\n",
    "uvpx_in = info[\"uvpx_in\"]\n",
    "uvpx_out = info[\"uvpx_out\"]\n",
    "print(uvpx_up.shape, uvpx_in.shape, uvpx_out.shape)\n",
    "\n",
    "tri_up = info[\"tri_up\"]\n",
    "tri_in = info[\"tri_in\"]\n",
    "tri_out = info[\"tri_out\"]\n",
    "print(tri_up.shape, tri_in.shape, tri_out.shape)\n",
    "\n",
    "# load mesh\n",
    "mesh = o3d.io.read_triangle_mesh(os.path.join(label_mesh_dir, f\"{mesh_name}.ply\"))\n",
    "vertices = np.asarray(mesh.vertices)\n",
    "vert_GT_label = 1 - np.asarray(mesh.vertex_colors) # already in range [0, 1], need to be flipped so that 1 => plaque, 0 => tooth\n",
    "print(vertices.shape)\n",
    "print(vert_GT_label.shape)\n",
    "\n",
    "\n"
   ]
  },
  {
   "cell_type": "markdown",
   "metadata": {},
   "source": [
    "### Extract predicted RGB and GT RGB for each triangle face"
   ]
  },
  {
   "cell_type": "code",
   "execution_count": 235,
   "metadata": {},
   "outputs": [],
   "source": [
    "def get_tri_RGB(triangles, vertex_RGB):\n",
    "    \"\"\" Get the RGB of each triangle face from the RGB of its 3 vertices\"\"\"\n",
    "    tri_RGBs = []\n",
    "    for triangle in triangles:\n",
    "        colors_3vert = vertex_RGB[triangle]\n",
    "        # Get the minimum color value for each channel\n",
    "        tri_rgb = np.mean(colors_3vert, axis=0) # TODO: min vs mean!!!!\n",
    "        tri_RGBs.append(tri_rgb[0])\n",
    "    return np.array(tri_RGBs)\n",
    "\n",
    "\n",
    "def get_tri_center_uv(triangles, uv_pixels):\n",
    "    tri_center_uv = np.mean(uv_pixels[triangles], axis=1)\n",
    "    return tri_center_uv\n",
    "\n",
    "def get_tri_pred_label(tri_uvpx, pred_img_label):\n",
    "    tri_pred_label = []\n",
    "    for uv in tri_uvpx:\n",
    "        u, v = uv.astype(np.int32)\n",
    "        tri_pred_label.append(pred_img_label[v, u])\n",
    "    return np.array(tri_pred_label)"
   ]
  },
  {
   "cell_type": "code",
   "execution_count": 236,
   "metadata": {},
   "outputs": [
    {
     "name": "stdout",
     "output_type": "stream",
     "text": [
      "735 2049 2564\n",
      "3515 3542 5798\n",
      "15995 9219 14650\n"
     ]
    }
   ],
   "source": [
    "tri_uvpx_up = get_tri_center_uv(tri_up, uvpx_up)\n",
    "tri_uvpx_in = get_tri_center_uv(tri_in, uvpx_in)\n",
    "tri_uvpx_out = get_tri_center_uv(tri_out, uvpx_out)\n",
    "\n",
    "tri_pred_label_up = get_tri_pred_label(tri_uvpx_up, pred_img_up)\n",
    "tri_pred_label_in = get_tri_pred_label(tri_uvpx_in, pred_img_in)\n",
    "tri_pred_label_out = get_tri_pred_label(tri_uvpx_out, pred_img_out)\n",
    "\n",
    "tri_GT_labelGRB_up = get_tri_RGB(tri_up, vert_GT_label)\n",
    "tri_GT_labelGRB_in = get_tri_RGB(tri_in, vert_GT_label)\n",
    "tri_GT_labelGRB_out = get_tri_RGB(tri_out, vert_GT_label)\n",
    "\n",
    "print(np.count_nonzero(tri_pred_label_up), np.count_nonzero(tri_pred_label_in), np.count_nonzero(tri_pred_label_out))\n",
    "print(np.count_nonzero(tri_GT_labelGRB_up), np.count_nonzero(tri_GT_labelGRB_in), np.count_nonzero(tri_GT_labelGRB_out))\n",
    "\n",
    "print(len(tri_pred_label_up), len(tri_pred_label_in), len(tri_pred_label_out))"
   ]
  },
  {
   "cell_type": "markdown",
   "metadata": {},
   "source": [
    "### Evaluative metrics"
   ]
  },
  {
   "cell_type": "code",
   "execution_count": 237,
   "metadata": {},
   "outputs": [
    {
     "name": "stdout",
     "output_type": "stream",
     "text": [
      "Class 1 IoU: 0.345, Class 1 Dice: 0.505\n",
      "Class 0 IoU: 0.792, Class 0 Dice: 0.883\n"
     ]
    }
   ],
   "source": [
    "\n",
    "def compute_metrics_tri(gt_labels, pred_labels, class_id=1):\n",
    "    \"\"\" Compute the IoU and Dice scores for the triangles \"\"\"\n",
    "    if class_id ==1: # Class 1 plaque\n",
    "        # Convert RGB to binary scalar\n",
    "        gt_labels_bi = (gt_labels > 0.25).astype(np.int32) \n",
    "        pred_labels_bi = (pred_labels > 0).astype(np.int32) # FIXME:\n",
    "    else: # Class 0 non-plaque\n",
    "        gt_labels_bi = (gt_labels < 0.25).astype(np.int32) \n",
    "        pred_labels_bi = (pred_labels == 0).astype(np.int32)\n",
    "    \n",
    "\n",
    "    intersection = np.sum(np.logical_and(gt_labels_bi, pred_labels_bi))\n",
    "    union = np.sum(np.logical_or(gt_labels_bi, pred_labels_bi))\n",
    "    iou = intersection / union\n",
    "\n",
    "    intersection_bi = np.sum(np.logical_and(gt_labels_bi, pred_labels_bi))\n",
    "    dice = 2 * intersection_bi / (np.sum(gt_labels_bi) + np.sum(pred_labels_bi))\n",
    "    # if non-binary (3 channel)\n",
    "    # dice = 2/3 * intersection / (np.sum(np.any(gt_labels!=0,axis=1)) + np.sum(np.any(pred_labels!=0,axis=1)))\n",
    "    return iou, dice\n",
    "\n",
    "\n",
    "iou_up, dice_up = compute_metrics_tri(tri_GT_labelGRB_up, tri_pred_label_up)\n",
    "iou_in, dice_in = compute_metrics_tri(tri_GT_labelGRB_in, tri_pred_label_in)\n",
    "iou_out, dice_out = compute_metrics_tri(tri_GT_labelGRB_out, tri_pred_label_out)\n",
    "\n",
    "iou_mean = (len(tri_up)*iou_up + len(tri_in)*iou_in + len(tri_out)*iou_out)/len(mesh.triangles)\n",
    "dice_mean = (len(tri_up)*dice_up + len(tri_in)*dice_in + len(tri_out)*dice_out)/len(mesh.triangles)\n",
    "print(f\"Class 1 IoU: {iou_mean:.3f}, Class 1 Dice: {dice_mean:.3f}\")\n",
    "\n",
    "\n",
    "\n",
    "iou_up0, dice_up0 = compute_metrics_tri(tri_GT_labelGRB_up, tri_pred_label_up, class_id=0)\n",
    "iou_in0, dice_in0 = compute_metrics_tri(tri_GT_labelGRB_in, tri_pred_label_in, class_id=0)\n",
    "iou_out0, dice_out0 = compute_metrics_tri(tri_GT_labelGRB_out, tri_pred_label_out, class_id=0)\n",
    "\n",
    "iou_mean0 = (len(tri_up)*iou_up0 + len(tri_in)*iou_in0 + len(tri_out)*iou_out0)/len(mesh.triangles)\n",
    "dice_mean0 = (len(tri_up)*dice_up0 + len(tri_in)*dice_in0 + len(tri_out)*dice_out0)/len(mesh.triangles)\n",
    "print(f\"Class 0 IoU: {iou_mean0:.3f}, Class 0 Dice: {dice_mean0:.3f}\")\n"
   ]
  },
  {
   "cell_type": "markdown",
   "metadata": {},
   "source": [
    "### Vertex Label evaluation"
   ]
  },
  {
   "cell_type": "code",
   "execution_count": 238,
   "metadata": {},
   "outputs": [
    {
     "name": "stdout",
     "output_type": "stream",
     "text": [
      "Class 1 IoU: 0.369, Class 1 Dice: 0.539\n",
      "Class 0 IoU: 0.795, Class 0 Dice: 0.886\n"
     ]
    }
   ],
   "source": [
    "# Consider each vertex instead of face\n",
    "def update_uv_pred_label(vert_pred_label, uv_pixel, vert_idx, pred_img_label):\n",
    "    \"\"\" Get the predicted label for each vertex UV pixel coordinate \n",
    "    located on the respective predicted label image\"\"\"\n",
    "    px_h, px_w = pred_img_label.shape[:2]\n",
    "    for idx in vert_idx: # idx among all vertices (since uv_pixel is for all vertices)\n",
    "        u, v = uv_pixel[idx]\n",
    "        u = np.clip(int(u), 0, px_w-1)\n",
    "        v = np.clip(int(v), 0, px_h-1)\n",
    "        \n",
    "        # if pred_img_label[v, u].any() != 0 and pred_img_label[v,u].any()!=1: # if not black nor white\n",
    "        #     print(f\"pred_img_label: {pred_img_label[v,u]}\")\n",
    "        \n",
    "        # if vert_pred_label[idx].all() == np.array([-1,-1,-1]).all():\n",
    "        vert_pred_label[idx] = pred_img_label[v, u]\n",
    "      \n",
    "        # else:\n",
    "            # vert_pred_label[idx] = (pred_img_label[v, u] + vert_pred_label[idx]) /2 # average if already assigned\n",
    "    return vert_pred_label\n",
    "\n",
    "\n",
    "up_vert_idx = np.unique(tri_up.flatten())\n",
    "in_vert_idx = np.unique(tri_in.flatten())\n",
    "out_vert_idx = np.unique(tri_out.flatten())\n",
    "\n",
    "\n",
    "# Initialize pred labels for vertices and triangles filled with -1\n",
    "vert_pred_label = np.full((vertices.shape[0], 3), -1.0)\n",
    "# Update the predicted labels for each vertex (outward, inward, upward)\n",
    "vert_pred_label = update_uv_pred_label(vert_pred_label, uvpx_out, out_vert_idx, pred_img_out)\n",
    "vert_pred_label = update_uv_pred_label(vert_pred_label, uvpx_in, in_vert_idx, pred_img_in)\n",
    "vert_pred_label = update_uv_pred_label(vert_pred_label, uvpx_up, up_vert_idx, pred_img_up)\n",
    "\n",
    "\n",
    "# Convert both GT and pred labels to binary scalar (0 or 1)\n",
    "vert_pred_label_binary= np.zeros(vert_pred_label.shape[0])\n",
    "vert_pred_label_binary[np.any(vert_pred_label > 0, axis=1)] = 1\n",
    "\n",
    "vert_GT_label_binary= np.zeros(vert_GT_label.shape[0])\n",
    "vert_GT_label_binary[np.any(vert_GT_label > 0, axis=1)] = 1\n",
    "\n",
    "\n",
    "\n",
    "# Compare the predicted labels with the ground truth labels for all vertices from the entire mesh\n",
    "def compute_metrics(gt_labels, pred_labels):\n",
    "    \"\"\" Compute the IoU and Dice scores for the vertices \"\"\"\n",
    "    intersection = np.sum(np.logical_and(gt_labels, pred_labels))\n",
    "    union = np.sum(np.logical_or(gt_labels, pred_labels))\n",
    "    iou = intersection / union\n",
    "    dice = 2 * intersection / (np.sum(gt_labels) + np.sum(pred_labels))\n",
    "    # if non-binary (3 channel)\n",
    "    # dice = 2/3 * intersection / (np.sum(np.any(gt_labels!=0,axis=1)) + np.sum(np.any(pred_labels!=0,axis=1)))\n",
    "    return iou, dice\n",
    "\n",
    "iou, dice = compute_metrics(vert_GT_label_binary, vert_pred_label_binary)\n",
    "\n",
    "vert_GT_label_binary0 = np.logical_not(vert_GT_label_binary)\n",
    "vert_pred_label_binary0 = np.logical_not(vert_pred_label_binary)\n",
    "iou_0, dice_0 = compute_metrics(vert_GT_label_binary0, vert_pred_label_binary0)\n",
    "print(f\"Class 1 IoU: {iou:.3f}, Class 1 Dice: {dice:.3f}\")\n",
    "print(f\"Class 0 IoU: {iou_0:.3f}, Class 0 Dice: {dice_0:.3f}\")"
   ]
  },
  {
   "cell_type": "markdown",
   "metadata": {},
   "source": [
    "### Visualization"
   ]
  },
  {
   "cell_type": "code",
   "execution_count": 239,
   "metadata": {},
   "outputs": [],
   "source": [
    "# visualize the predicted label images in mesh form\n",
    "def visualize_pred_labels(GTlabel_mesh, vert_GT_label_binary, vert_pred_label_binary): # assume vertex_pred_labels is in RGB format (0-1) non-binary\n",
    "    \"\"\" Visualize the predicted labels on the mesh \"\"\"\n",
    "    mesh_pred = copy.deepcopy(GTlabel_mesh)\n",
    "    vertices = np.asarray(mesh_pred.vertices)\n",
    "    triangles = np.asarray(mesh_pred.triangles)\n",
    "    colors = np.full((len(vertices), 3), 0.8) # grey: True negative\n",
    "\n",
    "    \n",
    "    for i in range(len(vertices)):\n",
    "        if vert_pred_label_binary[i] == 1: \n",
    "            if vert_GT_label_binary[i] == 1: # True positive\n",
    "                colors[i] = np.array([0, 1, 0]) # Green\n",
    "\n",
    "            else: # False positive 误检\n",
    "                colors[i] = np.array([0, 0, 0]) # Black\n",
    "                \n",
    "        else:\n",
    "            if vert_GT_label_binary[i] == 1: # False negative 漏检\n",
    "                colors[i] = np.array([1, 0, 0]) # Red\n",
    "\n",
    "        \n",
    "    mesh_pred.vertex_colors = o3d.utility.Vector3dVector(colors)\n",
    "\n",
    "    return mesh_pred\n",
    "\n",
    "mesh_pred = visualize_pred_labels(mesh, vert_GT_label_binary, vert_pred_label_binary)\n",
    "\n",
    "axes = o3d.geometry.TriangleMesh.create_coordinate_frame(size=10, origin=[0, 0, 0])\n",
    "o3d.visualization.draw_geometries([mesh_pred, axes])"
   ]
  },
  {
   "cell_type": "code",
   "execution_count": 240,
   "metadata": {},
   "outputs": [],
   "source": [
    "# post-processing\n",
    "    # Convert color format of pred mask image\n",
    "    # (RGB vs BGR, 0-255 vs 0-1, resolution, binary?) \n",
    "    # --> pred_mask_img (2D)\n",
    "\n",
    "\n",
    "##################### 2D-3D Backprojection #####################\n",
    "# Load info from data_png folder\n",
    "    # uv_pixel (mapping information)\n",
    "    # tri (separation information)\n",
    "\n",
    "# For each case (0-upward, 1-inward, 2-outward)\n",
    "    # Extract triangle color (prediction) from pred_mask_img\n",
    "    # --> pred_tri_color (_xxward)\n",
    "\n",
    "\n",
    "\n",
    "############################ GT ########################\n",
    "# Load GT label mesh (.ply) file\n",
    "# For each case (0-upward, 1-inward, 2-outward)\n",
    "    # Extract triangle color (ground truth) from vertex color\n",
    "    # --> gt_tri_color (_xxward)\n",
    "\n",
    "\n",
    "\n",
    "\n",
    "\n",
    "############################ Evaluate ########################\n",
    "# Compute IoU, Dice for each case\n",
    "\n",
    "# Visualize the results\n"
   ]
  }
 ],
 "metadata": {
  "kernelspec": {
   "display_name": "open3d_env",
   "language": "python",
   "name": "python3"
  },
  "language_info": {
   "codemirror_mode": {
    "name": "ipython",
    "version": 3
   },
   "file_extension": ".py",
   "mimetype": "text/x-python",
   "name": "python",
   "nbconvert_exporter": "python",
   "pygments_lexer": "ipython3",
   "version": "3.9.19"
  }
 },
 "nbformat": 4,
 "nbformat_minor": 2
}

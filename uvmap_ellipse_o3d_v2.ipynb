{
 "cells": [
  {
   "cell_type": "code",
   "execution_count": 1,
   "metadata": {},
   "outputs": [
    {
     "name": "stdout",
     "output_type": "stream",
     "text": [
      "Jupyter environment detected. Enabling Open3D WebVisualizer.\n",
      "[Open3D INFO] WebRTC GUI backend enabled.\n",
      "[Open3D INFO] WebRTCWindowSystem: HTTP handshake server disabled.\n"
     ]
    }
   ],
   "source": [
    "import open3d as o3d\n",
    "import numpy as np\n",
    "import copy\n",
    "from scipy import interpolate\n"
   ]
  },
  {
   "cell_type": "code",
   "execution_count": 51,
   "metadata": {},
   "outputs": [],
   "source": [
    "# Load the intraoral mesh\n",
    "intraoral_mesh = o3d.io.read_triangle_mesh(r'D:\\sunny\\Codes\\DPS\\data_teethseg\\origin\\001502_origin.ply')\n",
    "intraoral_mesh.compute_vertex_normals()\n",
    "n_sample_pts = 32\n",
    "\n",
    "axes = o3d.geometry.TriangleMesh.create_coordinate_frame(size=50, origin=[0,0,0])\n"
   ]
  },
  {
   "cell_type": "markdown",
   "metadata": {},
   "source": [
    "### Recenter the mesh (later the labelled one as well)"
   ]
  },
  {
   "cell_type": "code",
   "execution_count": 52,
   "metadata": {},
   "outputs": [],
   "source": [
    "# Find two end points of the intraoral mesh by the max and min theta values\n",
    "def find_key_points(mesh):\n",
    "    vertices = np.asarray(mesh.vertices)\n",
    "    x,y,z = vertices[:,0], vertices[:,1], vertices[:,2]\n",
    "    theta = np.arctan2(z,x) + np.pi/2\n",
    "    theta = np.where(theta<0, theta+2*np.pi, theta) # if theta < 0, add 2pi to make it positive\n",
    "    endpt1 = vertices[np.argmin(theta)]\n",
    "    endpt2 = vertices[np.argmax(theta)]\n",
    "    centre = (endpt1 + endpt2) / 2\n",
    "    return endpt1, endpt2, centre\n",
    "\n",
    "# Recentre the mesh with centre keypoint at the origin, rotate the mesh about y axis such that x-axis point to endpt1\n",
    "def recentre_mesh(mesh, key_points):\n",
    "    endpt1, endpt2, centre_keypt = key_points\n",
    "    vertices = np.asarray(mesh.vertices)\n",
    "    vertices = vertices - centre_keypt\n",
    "    endpt1 = endpt1 - centre_keypt\n",
    "    endpt2 = endpt2 - centre_keypt\n",
    "\n",
    "\n",
    "    # Rotate the mesh about y axis such that x-axis point to endpt1\n",
    "    theta = np.arctan2(endpt1[2], endpt1[0])\n",
    "    # print(f\"endpt1: {endpt1}, endpt2: {endpt2}, theta: {theta}\")\n",
    "    R = np.array([[np.cos(theta), 0, np.sin(theta)], [0, 1, 0], [-np.sin(theta), 0, np.cos(theta)]])\n",
    "    vertices = np.dot(vertices, R.T)\n",
    "    endpt1 = np.dot(endpt1, R.T)\n",
    "    endpt2 = np.dot(endpt2, R.T)\n",
    "    print(f\"endpt1: {endpt1}, endpt2: {endpt2}\")\n",
    "    assert endpt1[2] < 1e-6, f\"end point 1 {endpt1} is not on x-axis\"\n",
    "    assert endpt2[2] < 1e-6, f\"end point 2 {endpt2} is not on x-axis\"  \n",
    "\n",
    "    mesh.vertices = o3d.utility.Vector3dVector(vertices)\n",
    "    return mesh, endpt1, endpt2"
   ]
  },
  {
   "cell_type": "code",
   "execution_count": 53,
   "metadata": {},
   "outputs": [],
   "source": [
    "# Test the recentre_mesh function\n",
    "keypts = find_key_points(intraoral_mesh)\n",
    "\n",
    "# Visualize the original mesh with key points\n",
    "pc = o3d.geometry.PointCloud()\n",
    "pc.points = o3d.utility.Vector3dVector(keypts)\n",
    "pc.paint_uniform_color([1, 0, 0])\n",
    "o3d.visualization.draw_geometries([intraoral_mesh, axes, pc])"
   ]
  },
  {
   "cell_type": "code",
   "execution_count": 54,
   "metadata": {},
   "outputs": [
    {
     "name": "stdout",
     "output_type": "stream",
     "text": [
      "endpt1: [22.42717787  0.33631639  0.        ], endpt2: [-22.42717787  -0.33631639   0.        ]\n"
     ]
    }
   ],
   "source": [
    "intraoral_mesh_rc, endpt1_rc, endpt2_rc = recentre_mesh(intraoral_mesh, keypts) # rc: re-centered\n",
    "\n",
    "# Visualize the recentred mesh with key points, with axis drawn\n",
    "pc = o3d.geometry.PointCloud()\n",
    "pc.points = o3d.utility.Vector3dVector([endpt1_rc, endpt2_rc])\n",
    "pc.paint_uniform_color([1, 0, 0])\n",
    "\n",
    "o3d.visualization.draw_geometries([intraoral_mesh_rc, axes, pc])"
   ]
  },
  {
   "cell_type": "code",
   "execution_count": 58,
   "metadata": {},
   "outputs": [
    {
     "name": "stdout",
     "output_type": "stream",
     "text": [
      "Number of points near x-axis: 245\n",
      "Number of points near z-axis: 328\n"
     ]
    }
   ],
   "source": [
    "\"\"\" Express all mesh vertices in polar coordinates (r, theta) in x-z plane\n",
    "    r: the distance to the origin\n",
    "    theta: the angle to x-axis\"\"\"\n",
    "\n",
    "vertices = np.asarray(intraoral_mesh_rc.vertices)\n",
    "r = np.linalg.norm(vertices[:,[0,2]], axis=1)\n",
    "theta = np.arctan2(vertices[:,2], vertices[:,0])\n",
    "\n",
    "\n",
    "\n",
    "# Create the outer and inner half-ellipse curves\n",
    "# Compute the major and minor axis of the ellipse\n",
    "\n",
    "# a = endpt1_rc[0] # major axis of the ellipse\n",
    "end_mask = np.logical_or(theta < 0.01*np.pi, theta > 0.99*np.pi) # Extract out points near the x axis (within theta value of [0.01pi, 0.99pi])\n",
    "print(f\"Number of points near x-axis: {np.sum(end_mask)}\")\n",
    "r_end = r[end_mask]\n",
    "a = np.mean(r_end) # major axis of the ellipse\n",
    "\n",
    "middle_mask = np.logical_and(theta > 0.49*np.pi, theta < 0.51*np.pi) # Extract out points near the z axis (within theta value of [0.48pi, 0.52pi])\n",
    "print(f\"Number of points near z-axis: {np.sum(middle_mask)}\")\n",
    "r_middle = r[middle_mask]\n",
    "b = np.mean(r_middle) # minor axis of the ellipse\n",
    "\n",
    "a_outer = a * 1.4\n",
    "b_outer = b * 1.1\n",
    "a_inner = a * 0.7\n",
    "b_inner = b * 0.8\n",
    "\n"
   ]
  },
  {
   "cell_type": "code",
   "execution_count": 59,
   "metadata": {},
   "outputs": [],
   "source": [
    "def ellipse_coordinates(a, b, theta):\n",
    "    \"\"\" return an array of x, z coordinates of points lying on the ellipse with major axis a, minor axis b, and angles theta\"\"\"\n",
    "    r = a * b / np.sqrt((b * np.cos(theta))**2 + (a * np.sin(theta))**2)\n",
    "    x = r * np.cos(theta)\n",
    "    z = r * np.sin(theta)\n",
    "    y = np.zeros_like(x)\n",
    "    # rearrange into (x, y, z) format for all points (i.e. shape (n, 3))\n",
    "    coordinates = np.vstack((x, y, z)).T\n",
    "    return coordinates"
   ]
  },
  {
   "cell_type": "code",
   "execution_count": 61,
   "metadata": {},
   "outputs": [
    {
     "name": "stdout",
     "output_type": "stream",
     "text": [
      "outer_ellipse_pts: (256, 3), inner_ellipse_pts: (256, 3)\n"
     ]
    }
   ],
   "source": [
    "# visualize the outer and inner half-ellipse curves with original mesh\n",
    "theta_values = np.linspace(0, np.pi, 256)\n",
    "outer_ellipse_pts = ellipse_coordinates(a_outer, b_outer, theta_values)\n",
    "inner_ellipse_pts = ellipse_coordinates(a_inner, b_inner, theta_values)\n",
    "print(f\"outer_ellipse_pts: {outer_ellipse_pts.shape}, inner_ellipse_pts: {inner_ellipse_pts.shape}\")\n",
    "\n",
    "outer_ellipse_mesh = o3d.geometry.PointCloud()\n",
    "outer_ellipse_mesh.points = o3d.utility.Vector3dVector(outer_ellipse_pts)\n",
    "outer_ellipse_mesh.paint_uniform_color([0, 1, 0])\n",
    "\n",
    "\n",
    "# FIXME: maybe the inner ellipse is not necessary!!???\n",
    "inner_ellipse_mesh = o3d.geometry.PointCloud()\n",
    "inner_ellipse_mesh.points = o3d.utility.Vector3dVector(inner_ellipse_pts)\n",
    "inner_ellipse_mesh.paint_uniform_color([0, 0, 1])\n",
    "\n",
    "o3d.visualization.draw_geometries([intraoral_mesh_rc, outer_ellipse_mesh, inner_ellipse_mesh, axes])\n"
   ]
  },
  {
   "cell_type": "code",
   "execution_count": null,
   "metadata": {},
   "outputs": [],
   "source": []
  },
  {
   "cell_type": "code",
   "execution_count": null,
   "metadata": {},
   "outputs": [],
   "source": [
    "\n",
    "\n"
   ]
  },
  {
   "cell_type": "code",
   "execution_count": null,
   "metadata": {},
   "outputs": [],
   "source": []
  }
 ],
 "metadata": {
  "kernelspec": {
   "display_name": "base",
   "language": "python",
   "name": "python3"
  },
  "language_info": {
   "codemirror_mode": {
    "name": "ipython",
    "version": 3
   },
   "file_extension": ".py",
   "mimetype": "text/x-python",
   "name": "python",
   "nbconvert_exporter": "python",
   "pygments_lexer": "ipython3",
   "version": "3.9.19"
  }
 },
 "nbformat": 4,
 "nbformat_minor": 2
}

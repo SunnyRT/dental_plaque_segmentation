{
 "cells": [
  {
   "cell_type": "code",
   "execution_count": 9,
   "metadata": {},
   "outputs": [],
   "source": [
    "from plyfile import PlyData\n",
    "import pandas as pd\n",
    "import numpy as np\n",
    "import os\n",
    "import open3d as o3d\n",
    "\n",
    "np.set_printoptions(suppress=True, precision=3)"
   ]
  },
  {
   "cell_type": "code",
   "execution_count": 4,
   "metadata": {},
   "outputs": [],
   "source": [
    "label_item_path = 'D:/sunny/Codes/DPS/data_8w/3d_ply/label/000101.ply'\n",
    "raw_data = PlyData.read(label_item_path)  # read ply file\n",
    "points = np.array(pd.DataFrame(raw_data.elements[0].data)) # [x, y, z, r, g, b]\n",
    "faces = np.array(pd.DataFrame(raw_data.elements[1].data)) # [vertex1_idx, vertex2_idx, vertex3_idx]\n",
    "\n",
    "n_face = faces.shape[0]  # number of faces"
   ]
  },
  {
   "cell_type": "code",
   "execution_count": 10,
   "metadata": {},
   "outputs": [
    {
     "name": "stdout",
     "output_type": "stream",
     "text": [
      "(40992, 9)\n",
      "[[ -8.745   9.571  25.572  -0.397   0.606   0.689 255.    255.    255.   ]\n",
      " [ -8.681   9.846  25.384  -0.441   0.629   0.637 255.    255.    255.   ]\n",
      " [ -8.514   9.849  25.482  -0.354   0.694   0.627 255.    255.    255.   ]\n",
      " [ -8.846   9.739  25.359  -0.399   0.626   0.67  255.    255.    255.   ]\n",
      " [ -8.975   9.522  25.507  -0.211   0.639   0.739 255.    255.    255.   ]]\n"
     ]
    }
   ],
   "source": [
    "print(points.shape)\n",
    "print(points[:5,:])\n",
    "# Set the print options to suppress scientific notation and print in normal number format\n"
   ]
  },
  {
   "cell_type": "code",
   "execution_count": 11,
   "metadata": {},
   "outputs": [
    {
     "name": "stdout",
     "output_type": "stream",
     "text": [
      "(79999, 1)\n",
      "[[array([3, 0, 1], dtype=uint32)]\n",
      " [array([5, 1, 0], dtype=uint32)]\n",
      " [array([1, 5, 2], dtype=uint32)]\n",
      " [array([6, 0, 3], dtype=uint32)]\n",
      " [array([0, 6, 4], dtype=uint32)]]\n"
     ]
    }
   ],
   "source": [
    "print(faces.shape)\n",
    "print(faces[:5,:])"
   ]
  },
  {
   "cell_type": "code",
   "execution_count": 12,
   "metadata": {},
   "outputs": [
    {
     "name": "stdout",
     "output_type": "stream",
     "text": [
      "[[-8.745  9.571 25.572]\n",
      " [-8.681  9.846 25.384]\n",
      " [-8.514  9.849 25.482]\n",
      " [-8.846  9.739 25.359]\n",
      " [-8.975  9.522 25.507]]\n",
      "[[3 0 1]\n",
      " [5 1 0]\n",
      " [1 5 2]\n",
      " [6 0 3]\n",
      " [0 6 4]]\n",
      "[[-0.397  0.606  0.689]\n",
      " [-0.441  0.629  0.637]\n",
      " [-0.354  0.694  0.627]\n",
      " [-0.399  0.626  0.67 ]\n",
      " [-0.211  0.639  0.739]]\n"
     ]
    }
   ],
   "source": [
    "# load mesh via open3d\n",
    "mesh = o3d.io.read_triangle_mesh(label_item_path)\n",
    "points_o3d = np.asarray(mesh.vertices)\n",
    "faces_o3d = np.asarray(mesh.triangles)\n",
    "normals = np.asarray(mesh.vertex_normals)\n",
    "\n",
    "print(points_o3d[:5,:])\n",
    "print(faces_o3d[:5,:])\n",
    "print(normals[:5,:])"
   ]
  },
  {
   "cell_type": "code",
   "execution_count": null,
   "metadata": {},
   "outputs": [],
   "source": []
  }
 ],
 "metadata": {
  "kernelspec": {
   "display_name": "open3d_env",
   "language": "python",
   "name": "python3"
  },
  "language_info": {
   "codemirror_mode": {
    "name": "ipython",
    "version": 3
   },
   "file_extension": ".py",
   "mimetype": "text/x-python",
   "name": "python",
   "nbconvert_exporter": "python",
   "pygments_lexer": "ipython3",
   "version": "3.9.19"
  }
 },
 "nbformat": 4,
 "nbformat_minor": 2
}

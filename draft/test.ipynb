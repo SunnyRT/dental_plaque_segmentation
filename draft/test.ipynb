{
 "cells": [
  {
   "cell_type": "code",
   "execution_count": 11,
   "metadata": {},
   "outputs": [
    {
     "name": "stdout",
     "output_type": "stream",
     "text": [
      "Jupyter environment detected. Enabling Open3D WebVisualizer.\n",
      "[Open3D INFO] WebRTC GUI backend enabled.\n",
      "[Open3D INFO] WebRTCWindowSystem: HTTP handshake server disabled.\n"
     ]
    }
   ],
   "source": [
    "from plyfile import PlyData\n",
    "import pandas as pd\n",
    "import numpy as np\n",
    "import os\n",
    "import open3d as o3d"
   ]
  },
  {
   "cell_type": "code",
   "execution_count": 5,
   "metadata": {},
   "outputs": [],
   "source": [
    "label_item_path = 'D:/sunny/Codes/DPS/data_teethseg/label/000101.ply'\n",
    "raw_data = PlyData.read(label_item_path)  # read ply file\n",
    "points = np.array(pd.DataFrame(raw_data.elements[0].data)) # [x, y, z, r, g, b]\n",
    "faces = np.array(pd.DataFrame(raw_data.elements[1].data)) # [vertex1_idx, vertex2_idx, vertex3_idx]\n",
    "\n",
    "n_face = faces.shape[0]  # number of faces"
   ]
  },
  {
   "cell_type": "code",
   "execution_count": 15,
   "metadata": {},
   "outputs": [
    {
     "name": "stdout",
     "output_type": "stream",
     "text": [
      "(20615, 9)\n",
      "[[ -9.1111   9.58    25.6032  -0.4266   0.6083   0.6693 255.     255.\n",
      "  255.    ]\n",
      " [ -8.9617   9.8557  25.4659  -0.4114   0.6708   0.6171 255.     255.\n",
      "  255.    ]\n",
      " [ -9.0966   9.9119  25.2929  -0.3896   0.738    0.551  255.     255.\n",
      "  255.    ]\n",
      " [ -9.3256   9.4688  25.5926  -0.2491   0.6316   0.7342 255.     255.\n",
      "  255.    ]\n",
      " [ -8.937    9.6079  25.7075  -0.4048   0.5736   0.7121 255.     255.\n",
      "  255.    ]]\n"
     ]
    }
   ],
   "source": [
    "print(points.shape)\n",
    "print(points[:5,:])\n",
    "# Set the print options to suppress scientific notation and print in normal number format\n",
    "np.set_printoptions(suppress=True, precision=4)"
   ]
  },
  {
   "cell_type": "code",
   "execution_count": 16,
   "metadata": {},
   "outputs": [
    {
     "name": "stdout",
     "output_type": "stream",
     "text": [
      "(39985, 1)\n",
      "[[array([2, 0, 1], dtype=uint32)]\n",
      " [array([4, 1, 0], dtype=uint32)]\n",
      " [array([5, 0, 2], dtype=uint32)]\n",
      " [array([0, 5, 3], dtype=uint32)]\n",
      " [array([6, 1, 4], dtype=uint32)]]\n"
     ]
    }
   ],
   "source": [
    "print(faces.shape)\n",
    "print(faces[:5,:])"
   ]
  },
  {
   "cell_type": "code",
   "execution_count": 17,
   "metadata": {},
   "outputs": [
    {
     "name": "stdout",
     "output_type": "stream",
     "text": [
      "[[-9.1111  9.58   25.6032]\n",
      " [-8.9617  9.8557 25.4659]\n",
      " [-9.0966  9.9119 25.2929]\n",
      " [-9.3256  9.4688 25.5926]\n",
      " [-8.937   9.6079 25.7075]]\n",
      "[[2 0 1]\n",
      " [4 1 0]\n",
      " [5 0 2]\n",
      " [0 5 3]\n",
      " [6 1 4]]\n",
      "[[-0.4266  0.6083  0.6693]\n",
      " [-0.4114  0.6708  0.6171]\n",
      " [-0.3896  0.738   0.551 ]\n",
      " [-0.2491  0.6316  0.7342]\n",
      " [-0.4048  0.5736  0.7121]]\n"
     ]
    }
   ],
   "source": [
    "# load mesh via open3d\n",
    "mesh = o3d.io.read_triangle_mesh(label_item_path)\n",
    "points_o3d = np.asarray(mesh.vertices)\n",
    "faces_o3d = np.asarray(mesh.triangles)\n",
    "normals = np.asarray(mesh.vertex_normals)\n",
    "\n",
    "print(points_o3d[:5,:])\n",
    "print(faces_o3d[:5,:])\n",
    "print(normals[:5,:])"
   ]
  },
  {
   "cell_type": "code",
   "execution_count": null,
   "metadata": {},
   "outputs": [],
   "source": []
  }
 ],
 "metadata": {
  "kernelspec": {
   "display_name": "open3d_env",
   "language": "python",
   "name": "python3"
  },
  "language_info": {
   "codemirror_mode": {
    "name": "ipython",
    "version": 3
   },
   "file_extension": ".py",
   "mimetype": "text/x-python",
   "name": "python",
   "nbconvert_exporter": "python",
   "pygments_lexer": "ipython3",
   "version": "3.9.19"
  }
 },
 "nbformat": 4,
 "nbformat_minor": 2
}

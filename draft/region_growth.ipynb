{
 "cells": [
  {
   "cell_type": "markdown",
   "metadata": {},
   "source": [
    "Packages:\n",
    "$ pip install pymeshlab"
   ]
  },
  {
   "cell_type": "code",
   "execution_count": 85,
   "metadata": {},
   "outputs": [],
   "source": [
    "import open3d as o3d\n",
    "import numpy as np\n",
    "import os\n",
    "import shutil"
   ]
  },
  {
   "cell_type": "code",
   "execution_count": 86,
   "metadata": {},
   "outputs": [],
   "source": [
    "def find_seed_point(mesh, jaw_type, labels, round_num): # grow from end boundary of gum\n",
    "    # Get the vertices as a numpy array\n",
    "    vertices = np.asarray(mesh.vertices)\n",
    "    # Find the index of the vertex with:\n",
    "    # - the min y-coordinate for \"01\" lower jaw\n",
    "    # - the max y-coordinate for \"02\" upper jaw\n",
    "    if jaw_type == \"01\":\n",
    "        if round_num == 1:\n",
    "            seed_index = np.argmin(vertices[:, 1])\n",
    "        elif round_num == 2:\n",
    "            # Find the index of the unlabeled vertex with the maximum y-coordinate for lower jaw\n",
    "            unlabeled_indices = np.where(labels == -1)[0]\n",
    "            seed_index = unlabeled_indices[np.argmin(vertices[unlabeled_indices, 1])]\n",
    "        else:\n",
    "            raise ValueError(\"round_num must be 1 or 2.\")\n",
    "    \n",
    "    \n",
    "    elif jaw_type == \"02\":\n",
    "        if round_num == 1:\n",
    "            seed_index = np.argmax(vertices[:, 1])\n",
    "        elif round_num == 2:\n",
    "            # Find the index of the unlabeled vertex with the minimum y-coordinate for upper jaw\n",
    "            unlabeled_indices = np.where(labels == -1)[0]\n",
    "            seed_index = unlabeled_indices[np.argmax(vertices[unlabeled_indices, 1])]\n",
    "        else:\n",
    "            raise ValueError(\"round_num must be 1 or 2.\")\n",
    "    else:\n",
    "        raise ValueError(\"jaw_type must be '01' for lower jaw or '02' for upper jaw.\")\n",
    "    return seed_index"
   ]
  },
  {
   "cell_type": "code",
   "execution_count": 87,
   "metadata": {},
   "outputs": [],
   "source": [
    "def create_adjacency_list(mesh):\n",
    "    adjacency_list = {i: set() for i in range(len(mesh.vertices))}\n",
    "    triangles = np.asarray(mesh.triangles)\n",
    "    for triangle in triangles:\n",
    "        for i, j in zip(triangle, triangle[[1, 2, 0]]):\n",
    "            adjacency_list[i].add(j)\n",
    "            adjacency_list[j].add(i)\n",
    "    return adjacency_list"
   ]
  },
  {
   "cell_type": "code",
   "execution_count": 88,
   "metadata": {},
   "outputs": [],
   "source": [
    "def region_growing_segmentation(mesh, adjacency_list, seed_index, labels, y_threshold=0.02, normal_threshold=0.9, color_threshold=0.1):\n",
    "    \"\"\"\n",
    "    Perform region growing segmentation on a mesh starting from a seed index using only z-axis distance.\n",
    "\n",
    "    Parameters:\n",
    "    - mesh: open3d.geometry.TriangleMesh, the input mesh\n",
    "    - adjacency_list: dict, adjacency list of vertices\n",
    "    - seed_index: int, the index of the seed vertex (start from gum)\n",
    "    - y_threshold: float, y-axis distance threshold for region growing\n",
    "    - normal_threshold: float, normal dot product threshold for region growing\n",
    "    - color_threshold: float, color difference threshold for region growing\n",
    "\n",
    "    Returns:\n",
    "    - labels: np.ndarray, an array of labels for each vertex in the mesh\n",
    "    \n",
    "    Labels:\n",
    "    - 1: within the gum region\n",
    "    - 0: gum-boundary region\n",
    "    - -1: unlabeled, outside the gum region (i.e. teeth region)\n",
    "    \"\"\"\n",
    "\n",
    "    \n",
    "\n",
    "    vertices = np.asarray(mesh.vertices)\n",
    "    normals = np.asarray(mesh.vertex_normals)\n",
    "    colors = np.asarray(mesh.vertex_colors)\n",
    "\n",
    "    \n",
    "    region = [seed_index]\n",
    "    labels[seed_index] = 1\n",
    "\n",
    "    while region:\n",
    "        current_index = region.pop()\n",
    "        current_vertex = vertices[current_index]\n",
    "        current_normal = normals[current_index]\n",
    "        current_color = colors[current_index]\n",
    "        \n",
    "        for neighbor_index in adjacency_list[current_index]:\n",
    "            if labels[neighbor_index] == -1:\n",
    "                neighbor_vertex = vertices[neighbor_index]\n",
    "                neighbor_normal = normals[neighbor_index]\n",
    "                neighbor_color = colors[neighbor_index]\n",
    "                \n",
    "                y_distance = abs(current_vertex[2] - neighbor_vertex[2])\n",
    "                normal_dot = np.dot(current_normal, neighbor_normal)\n",
    "                color_diff = np.linalg.norm(current_color - neighbor_color)\n",
    "                \n",
    "                if y_distance < y_threshold and normal_dot > normal_threshold and color_diff < color_threshold:\n",
    "                    labels[neighbor_index] = 0\n",
    "                    region.append(neighbor_index)\n",
    "                else:\n",
    "                    labels[neighbor_index] = 1\n",
    "    \n",
    "    return labels"
   ]
  },
  {
   "cell_type": "code",
   "execution_count": 370,
   "metadata": {},
   "outputs": [],
   "source": [
    "# TODO: Set input values\n",
    "input_file_path = \"E:\\\\OneDrive\\\\OneDrive - University of Cambridge\\\\Documents\\\\Coding\\\\DPS_hku\\\\data_new_65536\\\\Origin\\\\002001_origin.ply\"\n",
    "output_dir = \"E:\\OneDrive\\OneDrive - University of Cambridge\\Documents\\Coding\\DPS_hku\\gum_removal\\segment\\origin\"\n",
    "\n",
    "y_threshold = 11.0\n",
    "normal_threshold = 0.986 # lower\n",
    "# normal_threshold = 0.985 # upper\n",
    "color_threshold = 0.05"
   ]
  },
  {
   "cell_type": "code",
   "execution_count": 371,
   "metadata": {},
   "outputs": [],
   "source": [
    "# File name and path\n",
    "file_name = os.path.splitext(os.path.basename(input_file_path))[0]\n",
    "jaw_type = file_name[4:6]\n",
    "output_file_path = os.path.join(output_dir, f\"{file_name}_seg.ply\")"
   ]
  },
  {
   "cell_type": "code",
   "execution_count": 372,
   "metadata": {},
   "outputs": [
    {
     "name": "stdout",
     "output_type": "stream",
     "text": [
      "Number of vertices:  33672\n",
      "Number of triangles:  65536\n"
     ]
    }
   ],
   "source": [
    "# Load the mesh\n",
    "mesh = o3d.io.read_triangle_mesh(input_file_path)\n",
    "if mesh.is_empty():\n",
    "    raise ValueError(f\"Failed to load the mesh file: {input_file_path}\")\n",
    "mesh.compute_vertex_normals()\n",
    "\n",
    "# print number of vertices and faces\n",
    "vertices = np.asarray(mesh.vertices)\n",
    "triangles = np.asarray(mesh.triangles)\n",
    "print(\"Number of vertices: \", len(vertices))\n",
    "print(\"Number of triangles: \", len(triangles))\n",
    "\n",
    "# # Optionally simplify the mesh #### TODO: check if this is necessary\n",
    "# mesh = mesh.simplify_quadric_decimation(target_number_of_triangles=10000)\n",
    "# print(\"Number of vertices: \", len(mesh.vertices))\n",
    "# print(\"Number of triangles: \", len(mesh.triangles))\n"
   ]
  },
  {
   "cell_type": "code",
   "execution_count": 373,
   "metadata": {},
   "outputs": [
    {
     "name": "stdout",
     "output_type": "stream",
     "text": [
      "33672\n"
     ]
    }
   ],
   "source": [
    "# Create adjacency list for vertices\n",
    "adjacency_list = create_adjacency_list(mesh)\n",
    "print(len(adjacency_list))\n"
   ]
  },
  {
   "cell_type": "code",
   "execution_count": 374,
   "metadata": {},
   "outputs": [
    {
     "name": "stdout",
     "output_type": "stream",
     "text": [
      "Seed index1:  28195\n",
      "Seed index2:  28194\n",
      "Labels array: [ 0  0  0 ... -1 -1 -1]\n"
     ]
    }
   ],
   "source": [
    "# Initialize labels array\n",
    "labels = np.full(len(vertices), -1, dtype=int)\n",
    "\n",
    "\n",
    "# First round of region growing\n",
    "seed_index1 = find_seed_point(mesh, jaw_type, labels, round_num=1)\n",
    "print(\"Seed index1: \", seed_index1)\n",
    "labels = region_growing_segmentation(mesh, adjacency_list, seed_index1, labels, y_threshold, normal_threshold, color_threshold)\n",
    "\n",
    "\n",
    "# Second round of region growing\n",
    "seed_index2 = find_seed_point(mesh, jaw_type, labels, round_num=2)\n",
    "print(\"Seed index2: \", seed_index2)\n",
    "labels = region_growing_segmentation(mesh, adjacency_list, seed_index2, labels, y_threshold, normal_threshold, color_threshold)\n",
    "\n",
    "\n",
    "# Debug: Check the labels array\n",
    "print(f\"Labels array: {labels}\")\n",
    "# Check if the labels contain any segmented vertices\n",
    "if len(vertices[labels == 1]) == 0 or len(triangles[np.all(labels[triangles] == 1, axis=1)]) == 0:\n",
    "    raise ValueError(\"The resulting gum mesh is empty. Check the segmentation criteria and thresholds.\")\n"
   ]
  },
  {
   "cell_type": "code",
   "execution_count": 375,
   "metadata": {},
   "outputs": [],
   "source": [
    "# Duplicate the original mesh\n",
    "# Preserve triangles of the teeth region (all vertices of label = -1)\n",
    "\n",
    "teeth_triangles = triangles[np.all(labels[triangles] == -1, axis=1)]\n",
    "if len(teeth_triangles) == 0:\n",
    "    raise ValueError(\"No teeth region found.\")\n",
    "\n",
    "shutil.copyfile(input_file_path, output_file_path)\n",
    "teeth_mesh = o3d.io.read_triangle_mesh(output_file_path)\n",
    "teeth_mesh.triangles = o3d.utility.Vector3iVector(teeth_triangles)"
   ]
  },
  {
   "cell_type": "code",
   "execution_count": 376,
   "metadata": {},
   "outputs": [
    {
     "data": {
      "text/plain": [
       "True"
      ]
     },
     "execution_count": 376,
     "metadata": {},
     "output_type": "execute_result"
    }
   ],
   "source": [
    "# Preserve the largest connected component of the teeth region\n",
    "# Remove disconnected small component pieces\n",
    "\n",
    "comps_label = np.array(teeth_mesh.cluster_connected_triangles()[0])\n",
    "assert len(comps_label) == len(teeth_triangles), \"Mismatch between number of triangles and size of comps_label array.\"\n",
    "\n",
    "\n",
    "maxcomp = np.argmax(np.bincount(comps_label)) # largest connected component\n",
    "\n",
    "mask_maxcomp = (comps_label == maxcomp)\n",
    "teeth_triangles = teeth_triangles[mask_maxcomp]\n",
    "teeth_mesh.triangles = o3d.utility.Vector3iVector(teeth_triangles)\n",
    "o3d.io.write_triangle_mesh(output_file_path, teeth_mesh)"
   ]
  },
  {
   "cell_type": "code",
   "execution_count": 377,
   "metadata": {},
   "outputs": [],
   "source": [
    "# # Duplicate the original mesh\n",
    "# # Update the vertex colors based on labels for visualiation\n",
    "\n",
    "# shutil.copyfile(input_file_path, output_file_path)\n",
    "# segmented_mesh = o3d.io.read_triangle_mesh(output_file_path)\n",
    "\n",
    "# colors = np.asarray(segmented_mesh.vertex_colors)\n",
    "# for i in range(len(labels)):\n",
    "#     if labels[i] == 1:\n",
    "#         colors[i] = [0, 1, 0]  # Green for label 1\n",
    "#     elif labels[i] == 0:\n",
    "#         colors[i] = [1, 0, 0]  # Red for label 0\n",
    "#     # Else keep the original color for label -1\n",
    "\n",
    "# segmented_mesh.vertex_colors = o3d.utility.Vector3dVector(colors)\n",
    "# o3d.io.write_triangle_mesh(output_file_path, segmented_mesh)"
   ]
  }
 ],
 "metadata": {
  "kernelspec": {
   "display_name": "DPS_env",
   "language": "python",
   "name": "python3"
  },
  "language_info": {
   "codemirror_mode": {
    "name": "ipython",
    "version": 3
   },
   "file_extension": ".py",
   "mimetype": "text/x-python",
   "name": "python",
   "nbconvert_exporter": "python",
   "pygments_lexer": "ipython3",
   "version": "3.7.16"
  }
 },
 "nbformat": 4,
 "nbformat_minor": 2
}

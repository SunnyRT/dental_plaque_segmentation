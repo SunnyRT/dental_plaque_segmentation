{
 "cells": [
  {
   "cell_type": "code",
   "execution_count": 30,
   "metadata": {},
   "outputs": [],
   "source": [
    "import open3d as o3d\n",
    "import numpy as np"
   ]
  },
  {
   "cell_type": "code",
   "execution_count": 31,
   "metadata": {},
   "outputs": [],
   "source": [
    "def align_mesh_principal_axes(mesh):\n",
    "    # Compute the covariance matrix of the vertices\n",
    "    vertices = np.asarray(mesh.vertices)\n",
    "    cov = np.cov(vertices.T)\n",
    "    \n",
    "    # Perform eigen decomposition to get the principal axes\n",
    "    eigenvalues, eigenvectors = np.linalg.eigh(cov)\n",
    "    \n",
    "    # Sort the eigenvectors by eigenvalues in descending order\n",
    "    sorted_indices = np.argsort(eigenvalues)[::-1]\n",
    "    eigenvectors = eigenvectors[:, sorted_indices]\n",
    "    \n",
    "    # Align the principal axes to the global axes\n",
    "    # Primary (longest) to X, Secondary to Z, Tertiary to Y\n",
    "    target_axes = np.array([[1, 0, 0],  # X-axis\n",
    "                            [0, 0, 1],  # Z-axis\n",
    "                            [0, 1, 0]]) # Y-axis\n",
    "    \n",
    "    rotation_matrix = np.dot(eigenvectors, target_axes)\n",
    "\n",
    "    if np.linalg.det(rotation_matrix) < 0:\n",
    "        rotation_matrix[:, 2] *= -1\n",
    "\n",
    "    mesh.rotate(rotation_matrix, center=(0, 0, 0))\n",
    "    \n",
    "    return mesh"
   ]
  },
  {
   "cell_type": "code",
   "execution_count": 32,
   "metadata": {},
   "outputs": [],
   "source": [
    "def center_mesh_bb(mesh):\n",
    "    # Compute the center of the bounding box\n",
    "    bbox = mesh.get_axis_aligned_bounding_box()\n",
    "    bbox_center = bbox.get_center()\n",
    "    \n",
    "    # Translate the mesh to the origin\n",
    "    mesh.translate(-bbox_center)\n",
    "    \n",
    "    return mesh"
   ]
  },
  {
   "cell_type": "code",
   "execution_count": 33,
   "metadata": {},
   "outputs": [],
   "source": [
    "def compute_centre(mesh):\n",
    "    vertices = np.asarray(mesh.vertices)\n",
    "    centre = np.mean(vertices, axis=0)\n",
    "    print(f\"vertices mean: {centre}\")\n",
    "    return centre"
   ]
  },
  {
   "cell_type": "code",
   "execution_count": 34,
   "metadata": {},
   "outputs": [],
   "source": [
    "def align_mesh_orientation(mesh): # input mesh must be centered with its bounding box (bb)\n",
    "\n",
    "    centre = compute_centre(mesh)\n",
    "\n",
    "    if centre[1] < 0:\n",
    "        if centre[2] < 0: \n",
    "            # rotate 180 degrees around x\n",
    "            mesh.rotate(o3d.geometry.get_rotation_matrix_from_xyz([np.pi, 0, 0]), center=(0, 0, 0))\n",
    "        else: \n",
    "            # rotate 180 degrees around z\n",
    "            mesh.rotate(o3d.geometry.get_rotation_matrix_from_xyz([0, 0, np.pi]), center=(0, 0, 0))\n",
    "    \n",
    "    else:\n",
    "        if centre[2] < 0:\n",
    "            # rotate 180 degrees around y\n",
    "            mesh.rotate(o3d.geometry.get_rotation_matrix_from_xyz([0, np.pi, 0]), center=(0, 0, 0))\n",
    "        else:\n",
    "            pass\n",
    "    \n",
    "    centre = compute_centre(mesh)\n",
    "\n",
    "    return mesh"
   ]
  },
  {
   "cell_type": "code",
   "execution_count": 37,
   "metadata": {},
   "outputs": [
    {
     "name": "stdout",
     "output_type": "stream",
     "text": [
      "vertices mean: [-4.20554645  1.5127214  -5.7640815 ]\n",
      "vertices mean: [4.20554645 1.5127214  5.7640815 ]\n",
      "Mesh alignment and orientation correction complete. Aligned mesh saved as E:\\OneDrive\\OneDrive - University of Cambridge\\Documents\\Coding\\DPS_hku\\gum_removal\\align\\000601_origin.ply\n"
     ]
    }
   ],
   "source": [
    "# Load the mesh\n",
    "file_name = \"0601\" # 4 digits: first 2 are patient index, last 2 are scan index - 01 for lower, 02 for upper\n",
    "input_file_path = f\"E:\\\\OneDrive\\\\OneDrive - University of Cambridge\\\\Documents\\\\Coding\\\\DPS_hku\\\\data_new_65536\\\\Origin\\\\00{file_name}_origin.ply\"\n",
    "output_file_path = f\"E:\\\\OneDrive\\\\OneDrive - University of Cambridge\\\\Documents\\\\Coding\\\\DPS_hku\\\\gum_removal\\\\align\\\\00{file_name}_origin.ply\"\n",
    "mesh = o3d.io.read_triangle_mesh(input_file_path)\n",
    "\n",
    "# Align the mesh based on principal axes\n",
    "mesh = align_mesh_principal_axes(mesh)\n",
    "\n",
    "# Center the mesh based on bounding box\n",
    "mesh = center_mesh_bb(mesh)\n",
    "\n",
    "# Ensure correct orientation\n",
    "mesh = align_mesh_orientation(mesh)\n",
    "\n",
    "# Save the aligned mesh\n",
    "o3d.io.write_triangle_mesh(output_file_path, mesh)\n",
    "print(\"Mesh alignment and orientation correction complete. Aligned mesh saved as\", output_file_path)"
   ]
  }
 ],
 "metadata": {
  "kernelspec": {
   "display_name": "DPS_env",
   "language": "python",
   "name": "python3"
  },
  "language_info": {
   "codemirror_mode": {
    "name": "ipython",
    "version": 3
   },
   "file_extension": ".py",
   "mimetype": "text/x-python",
   "name": "python",
   "nbconvert_exporter": "python",
   "pygments_lexer": "ipython3",
   "version": "3.7.16"
  }
 },
 "nbformat": 4,
 "nbformat_minor": 2
}
